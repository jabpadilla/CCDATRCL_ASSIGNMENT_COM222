{
  "cells": [
    {
      "cell_type": "markdown",
      "metadata": {
        "id": "view-in-github",
        "colab_type": "text"
      },
      "source": [
        "<a href=\"https://colab.research.google.com/github/jabpadilla/CCDATRCL_ASSIGNMENT_COM222/blob/main/exercise2.ipynb\" target=\"_parent\"><img src=\"https://colab.research.google.com/assets/colab-badge.svg\" alt=\"Open In Colab\"/></a>"
      ]
    },
    {
      "cell_type": "markdown",
      "metadata": {
        "id": "QNWAYtOH8JJM"
      },
      "source": [
        "# Exercise 2"
      ]
    },
    {
      "cell_type": "markdown",
      "metadata": {
        "id": "WqS_i0U78JJQ"
      },
      "source": [
        "#### Pre-defined stack functions"
      ]
    },
    {
      "cell_type": "code",
      "execution_count": 1,
      "metadata": {
        "id": "Q55AdD2y8JJR"
      },
      "outputs": [],
      "source": [
        "# Creating a stack\n",
        "def create_stack():\n",
        "    stack = []\n",
        "    return stack\n",
        "\n",
        "def print_stack(stack):\n",
        "\n",
        "    if (check_empty(stack)):\n",
        "            return \"stack is empty\"\n",
        "\n",
        "    # Create a copy of the stack and reverse the elements\n",
        "    tempStack = stack.copy()\n",
        "    tempStack.reverse()\n",
        "\n",
        "    # Print all elements using a loop\n",
        "    for i in tempStack:\n",
        "        print(i)\n",
        "\n",
        "    # Delete the copy to free up memory\n",
        "    del tempStack\n",
        "\n",
        "# Creating an empty stack\n",
        "def check_empty(stack):\n",
        "    return len(stack) == 0\n",
        "\n",
        "\n",
        "# Adding items into the stack\n",
        "def push(stack, item):\n",
        "    stack.append(item)\n",
        "    print(\"pushed item: \", item)\n",
        "\n",
        "\n",
        "# Removing an element from the stack\n",
        "def pop(stack):\n",
        "    if (check_empty(stack)):\n",
        "        return \"stack is empty\"\n",
        "\n",
        "    return stack.pop()\n",
        "\n",
        "def peek(stack):\n",
        "\n",
        "    # Use negative indexing to display the last element of the list\n",
        "    print(stack[-1])\n"
      ]
    },
    {
      "cell_type": "markdown",
      "metadata": {
        "id": "z5FA3bY38JJT"
      },
      "source": [
        "#### 1. Create a burger stack.  \n",
        "\n",
        "The output of the stack should be in this order:\n",
        "\n",
        "- Bun\n",
        "\n",
        "- Tomato\n",
        "\n",
        "- Lettuce\n",
        "\n",
        "- Cheese\n",
        "\n",
        "- Patty\n",
        "\n",
        "- Bun"
      ]
    },
    {
      "cell_type": "code",
      "execution_count": 2,
      "metadata": {
        "id": "n6yPehQq8JJU"
      },
      "outputs": [],
      "source": [
        "# Create a new stack named burger_stack by calling the create_stack() function\n",
        "burger_stack = create_stack()"
      ]
    },
    {
      "cell_type": "code",
      "source": [
        "# Push or add each element (each of the burger ingredient) into the burger_stack\n",
        "push(burger_stack, \"Bun\")\n",
        "push(burger_stack, \"Patty\")\n",
        "push(burger_stack, \"Cheese\")\n",
        "push(burger_stack, \"Lettuce\")\n",
        "push(burger_stack, \"Tomato\")\n",
        "push(burger_stack, \"Bun\")"
      ],
      "metadata": {
        "colab": {
          "base_uri": "https://localhost:8080/"
        },
        "id": "8wzvcj9nJd1W",
        "outputId": "9fc10618-8834-4568-823f-4fffbf4b68d2"
      },
      "execution_count": 3,
      "outputs": [
        {
          "output_type": "stream",
          "name": "stdout",
          "text": [
            "pushed item:  Bun\n",
            "pushed item:  Patty\n",
            "pushed item:  Cheese\n",
            "pushed item:  Lettuce\n",
            "pushed item:  Tomato\n",
            "pushed item:  Bun\n"
          ]
        }
      ]
    },
    {
      "cell_type": "code",
      "source": [
        "# Print the output (the burger ingredients) from the burger_stack\n",
        "print_stack(burger_stack)"
      ],
      "metadata": {
        "colab": {
          "base_uri": "https://localhost:8080/"
        },
        "id": "Wa6K9-suJfVZ",
        "outputId": "8aad053e-603f-465b-e4d0-57be547afad1"
      },
      "execution_count": 4,
      "outputs": [
        {
          "output_type": "stream",
          "name": "stdout",
          "text": [
            "Bun\n",
            "Tomato\n",
            "Lettuce\n",
            "Cheese\n",
            "Patty\n",
            "Bun\n"
          ]
        }
      ]
    },
    {
      "cell_type": "markdown",
      "metadata": {
        "id": "W4XvryDA8JJU"
      },
      "source": [
        "#### 2. Reverse a string using a stack\n",
        "\n",
        "Given two stacks:\n",
        "\n",
        "**name_stack = ['E', 'L', 'I', 'Z', 'E', 'R']**\n",
        "\n",
        "**reversed_stack = []**\n",
        "\n",
        "Use your **firstname** and pop each letter from the **name_stack** and push each element into the **reversed_stack**\n",
        "\n",
        "-----------------\n",
        "**Expected output:**\n",
        "\n",
        "print(reversed_stack)\n",
        "\n",
        "['R', 'E', 'Z', 'I', 'L', 'E']"
      ]
    },
    {
      "cell_type": "code",
      "execution_count": 5,
      "metadata": {
        "id": "BuPMzC-g8JJV"
      },
      "outputs": [],
      "source": [
        "# Create the first stack named name_stack and initialize its elements (the letters of the first name)\n",
        "name_stack = ['J', 'O', 'S', 'E', 'P', 'H', 'I', 'N', 'E']"
      ]
    },
    {
      "cell_type": "code",
      "source": [
        "# Create the second stack by calling the create_stack() function\n",
        "reversed_stack = create_stack()     # A stack to store each letters of the reversed first name"
      ],
      "metadata": {
        "id": "3MG5zcdrJuTx"
      },
      "execution_count": 6,
      "outputs": []
    },
    {
      "cell_type": "code",
      "source": [
        "# A while not loop to pop each letter from the name_stack and push each letter into the reversed_stack\n",
        "while not check_empty(name_stack):\n",
        "    letter = pop(name_stack)\n",
        "    push(reversed_stack, letter)"
      ],
      "metadata": {
        "colab": {
          "base_uri": "https://localhost:8080/"
        },
        "id": "K2oh_fQJJzPt",
        "outputId": "e432fec7-5e8f-418b-e6f1-d9d9de623be1"
      },
      "execution_count": 7,
      "outputs": [
        {
          "output_type": "stream",
          "name": "stdout",
          "text": [
            "pushed item:  E\n",
            "pushed item:  N\n",
            "pushed item:  I\n",
            "pushed item:  H\n",
            "pushed item:  P\n",
            "pushed item:  E\n",
            "pushed item:  S\n",
            "pushed item:  O\n",
            "pushed item:  J\n"
          ]
        }
      ]
    },
    {
      "cell_type": "code",
      "source": [
        "# Print the output (the reversed first name) from the reversed_stack\n",
        "print(reversed_stack)"
      ],
      "metadata": {
        "colab": {
          "base_uri": "https://localhost:8080/"
        },
        "id": "5xSYXELqJ36M",
        "outputId": "da9a8671-3b6b-4761-cf11-e9e482bdb9f2"
      },
      "execution_count": 8,
      "outputs": [
        {
          "output_type": "stream",
          "name": "stdout",
          "text": [
            "['E', 'N', 'I', 'H', 'P', 'E', 'S', 'O', 'J']\n"
          ]
        }
      ]
    },
    {
      "cell_type": "markdown",
      "metadata": {
        "id": "coRKfCPZ8JJV"
      },
      "source": [
        "#### 3. Remove elements using a stack\n",
        "\n",
        "Given this stack:\n",
        "\n",
        "numbers = [1,2,3,4,5,6,7,8,9,10]\n",
        "\n",
        "new_stack = []\n",
        "\n",
        "Using the **pop()** function, push elements in the **new_stack** if they are an **even number**\n",
        "\n",
        "-----------------\n",
        "\n",
        "**Expected output:**\n",
        "\n",
        "print(new_stack)\n",
        "\n",
        "[2,4,6,8,10]"
      ]
    },
    {
      "cell_type": "code",
      "execution_count": 9,
      "metadata": {
        "id": "zTXYampp8JJV"
      },
      "outputs": [],
      "source": [
        "# Create the first stack named numbers and initialize its elements (the numbers)\n",
        "numbers = [1,2,3,4,5,6,7,8,9,10]"
      ]
    },
    {
      "cell_type": "code",
      "source": [
        "# Create the second stack named new_stack by calling the create_stack() function\n",
        "new_stack = create_stack()      # A stack to store the sorted even numbers"
      ],
      "metadata": {
        "id": "ksjl1HKBJ_Jl"
      },
      "execution_count": 10,
      "outputs": []
    },
    {
      "cell_type": "code",
      "source": [
        "# A while not loop to pop each number from the numbers stack and push each number into the new_stack\n",
        "while not check_empty(numbers):\n",
        "    number = pop(numbers)\n",
        "    if number % 2 == 0:     # An if statement to check for an even number\n",
        "        push(new_stack, number)"
      ],
      "metadata": {
        "colab": {
          "base_uri": "https://localhost:8080/"
        },
        "id": "JKV64cZ8KC34",
        "outputId": "a4d756b7-e7ed-4795-95d5-c4632715383d"
      },
      "execution_count": 11,
      "outputs": [
        {
          "output_type": "stream",
          "name": "stdout",
          "text": [
            "pushed item:  10\n",
            "pushed item:  8\n",
            "pushed item:  6\n",
            "pushed item:  4\n",
            "pushed item:  2\n"
          ]
        }
      ]
    },
    {
      "cell_type": "code",
      "source": [
        "# Print the output (the even numbers in an ascending order) from the new_stack\n",
        "print_stack(new_stack)"
      ],
      "metadata": {
        "colab": {
          "base_uri": "https://localhost:8080/"
        },
        "id": "yilwXCI-KIHe",
        "outputId": "821920bf-4b7a-4d24-b1b2-c02aa7e090c3"
      },
      "execution_count": 12,
      "outputs": [
        {
          "output_type": "stream",
          "name": "stdout",
          "text": [
            "2\n",
            "4\n",
            "6\n",
            "8\n",
            "10\n"
          ]
        }
      ]
    },
    {
      "cell_type": "markdown",
      "metadata": {
        "id": "1s4LGmuT8JJW"
      },
      "source": [
        "#### 4. Inserting elements into a stack\n",
        "\n",
        "Given two stacks:\n",
        "\n",
        "my_stack = ['E', 'L', 'I', 'Z', 'E', 'R', 'P', 'O', 'N', 'I', 'O', 'J', 'R']\n",
        "\n",
        "empty_stack = []\n",
        "\n",
        "Use **pop()** to get each element from  **my_stack** and use **push()** to insert the element to **empty_stack** only if:\n",
        "\n",
        "1. The element is a **vowel**\n",
        "2. The element does not exist in **empty_stack**\n",
        "\n",
        "----------------------\n",
        "\n",
        "**Expected output:**\n",
        "\n",
        "print_stack(empty_stack)\n",
        "\n",
        "['E', 'I', 'O']"
      ]
    },
    {
      "cell_type": "code",
      "execution_count": 13,
      "metadata": {
        "id": "cGXh7yd18JJW"
      },
      "outputs": [],
      "source": [
        "# Create the first given stack named my_stack and intialize its elements (the letters of the full name)\n",
        "my_stack = ['E', 'L', 'I', 'Z', 'E', 'R', 'P', 'O', 'N', 'I', 'O', 'J', 'R']"
      ]
    },
    {
      "cell_type": "code",
      "source": [
        "# Create the second stack named empty_stack by calling the create_stack() function\n",
        "empty_stack = create_stack()    # A stack to store the sorted vowels"
      ],
      "metadata": {
        "id": "Pv9ilOOqKRxM"
      },
      "execution_count": 14,
      "outputs": []
    },
    {
      "cell_type": "code",
      "source": [
        "# Declare a variable named vowels and initialize each of the vowels\n",
        "vowels = 'AEIOU'"
      ],
      "metadata": {
        "id": "HTnYNqUGKUEW"
      },
      "execution_count": 16,
      "outputs": []
    },
    {
      "cell_type": "code",
      "source": [
        "# A while not loop to pop each letter from the my_stack and push each letter into the empty_stack\n",
        "while not check_empty(my_stack):\n",
        "    letter = pop(my_stack)\n",
        "\n",
        "    if letter in vowels and letter not in empty_stack:    # An if statement to check if the letter is a vowel\n",
        "        push(empty_stack, letter)                         # and of its instance into the empty_stack"
      ],
      "metadata": {
        "colab": {
          "base_uri": "https://localhost:8080/"
        },
        "id": "69l-NdFhKcRL",
        "outputId": "ed0f10c4-c642-4d7e-8909-426b9fccc5f4"
      },
      "execution_count": 17,
      "outputs": [
        {
          "output_type": "stream",
          "name": "stdout",
          "text": [
            "pushed item:  O\n",
            "pushed item:  I\n",
            "pushed item:  E\n"
          ]
        }
      ]
    },
    {
      "cell_type": "code",
      "source": [
        "# Print the output (the vowels in the full name) of the empty_stack\n",
        "print(empty_stack)"
      ],
      "metadata": {
        "colab": {
          "base_uri": "https://localhost:8080/"
        },
        "id": "A9-yPcWTK2Jh",
        "outputId": "38b7f4c2-035c-4f2f-a4c8-62dc0f528adf"
      },
      "execution_count": 18,
      "outputs": [
        {
          "output_type": "stream",
          "name": "stdout",
          "text": [
            "['O', 'I', 'E']\n"
          ]
        }
      ]
    },
    {
      "cell_type": "markdown",
      "metadata": {
        "id": "cwtpya5m8JJX"
      },
      "source": [
        "#### 5. Sort elements in a stack\n",
        "\n",
        "Given two stacks:\n",
        "\n",
        "number_stack = [3,1,2]\n",
        "\n",
        "sorted_stack = []\n",
        "\n",
        "Create a **sort()** function to pop each element from the **number_stack** and push each element into the **sorted_stack**. The elements in **sorted_stack** must be in ascending order.\n",
        "\n",
        "----------------\n",
        "\n",
        "**Hint:**\n",
        "\n",
        "| iteration | number_stack | sorted_stack |\n",
        "| --- | --- | --- |\n",
        "| 1 | [3, 1, 2] | [] |\n",
        "| 2 | [3, 1] | [2] |\n",
        "| 3 | [3, 2] | [1] |\n",
        "| 4 | [3] | [1, 2] |\n",
        "| 5 | [] | [1, 2, 3] |\n",
        "\n",
        "**Expected output:**\n",
        "\n",
        "print(sorted_stack)\n",
        "\n",
        "[1, 2, 3]"
      ]
    },
    {
      "cell_type": "code",
      "execution_count": 24,
      "metadata": {
        "id": "XrLee2zo8JJX"
      },
      "outputs": [],
      "source": [
        "# A sort function to pop each number from the number_stack and push each number into the sorted stack in an ascending order\n",
        "def sort(number_stack, sorted_stack):\n",
        "\n",
        "    while not check_empty(number_stack):\n",
        "        number = pop(number_stack)\n",
        "\n",
        "        while not check_empty(sorted_stack) and sorted_stack[-1] > number:     # A while not statement to sort each\n",
        "            push(number_stack, pop(sorted_stack))                              # popped number in an increasing order\n",
        "\n",
        "        push(sorted_stack, number)"
      ]
    },
    {
      "cell_type": "code",
      "source": [
        "# Create the first given stack named number_stack and initialize its elements (the unsorted numbers)\n",
        "number_stack = [3,1,2]"
      ],
      "metadata": {
        "id": "0i73LVPQLPyu"
      },
      "execution_count": 25,
      "outputs": []
    },
    {
      "cell_type": "code",
      "source": [
        "# Create the second given stack named sorted_stack by calling the create_stack() function\n",
        "sorted_stack = create_stack()"
      ],
      "metadata": {
        "id": "yZ_R9MajLayH"
      },
      "execution_count": 26,
      "outputs": []
    },
    {
      "cell_type": "code",
      "source": [
        "# Call the sort function and use the two given stacks, the number_stack and the sorted_stack, as its arguments\n",
        "sort(number_stack, sorted_stack)"
      ],
      "metadata": {
        "colab": {
          "base_uri": "https://localhost:8080/"
        },
        "id": "fHVX3U4SLdh7",
        "outputId": "6b53e92f-cf01-4a2c-e1a0-1a21f6862f06"
      },
      "execution_count": 27,
      "outputs": [
        {
          "output_type": "stream",
          "name": "stdout",
          "text": [
            "pushed item:  2\n",
            "pushed item:  2\n",
            "pushed item:  1\n",
            "pushed item:  2\n",
            "pushed item:  3\n"
          ]
        }
      ]
    },
    {
      "cell_type": "code",
      "source": [
        "# Print the output (the sorted numbers in an ascending order) of the sorted_stack\n",
        "print(sorted_stack)"
      ],
      "metadata": {
        "colab": {
          "base_uri": "https://localhost:8080/"
        },
        "id": "iZ3mCJG-Lirg",
        "outputId": "aba249b0-8cf5-42fd-9a2d-d21dcfdb8c76"
      },
      "execution_count": 28,
      "outputs": [
        {
          "output_type": "stream",
          "name": "stdout",
          "text": [
            "[1, 2, 3]\n"
          ]
        }
      ]
    }
  ],
  "metadata": {
    "kernelspec": {
      "display_name": "Python 3",
      "language": "python",
      "name": "python3"
    },
    "language_info": {
      "codemirror_mode": {
        "name": "ipython",
        "version": 3
      },
      "file_extension": ".py",
      "mimetype": "text/x-python",
      "name": "python",
      "nbconvert_exporter": "python",
      "pygments_lexer": "ipython3",
      "version": "3.11.4"
    },
    "orig_nbformat": 4,
    "colab": {
      "provenance": [],
      "include_colab_link": true
    }
  },
  "nbformat": 4,
  "nbformat_minor": 0
}