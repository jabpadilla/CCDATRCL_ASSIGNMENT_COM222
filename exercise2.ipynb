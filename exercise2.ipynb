{
  "cells": [
    {
      "cell_type": "markdown",
      "metadata": {
        "id": "view-in-github",
        "colab_type": "text"
      },
      "source": [
        "<a href=\"https://colab.research.google.com/github/jabpadilla/CCDATRCL_ASSIGNMENT_COM222/blob/main/exercise2.ipynb\" target=\"_parent\"><img src=\"https://colab.research.google.com/assets/colab-badge.svg\" alt=\"Open In Colab\"/></a>"
      ]
    },
    {
      "cell_type": "markdown",
      "metadata": {
        "id": "QNWAYtOH8JJM"
      },
      "source": [
        "# Exercise 2"
      ]
    },
    {
      "cell_type": "markdown",
      "metadata": {
        "id": "WqS_i0U78JJQ"
      },
      "source": [
        "#### Pre-defined stack functions"
      ]
    },
    {
      "cell_type": "code",
      "execution_count": 2,
      "metadata": {
        "id": "Q55AdD2y8JJR"
      },
      "outputs": [],
      "source": [
        "# Creating a stack\n",
        "def create_stack():\n",
        "    stack = []\n",
        "    return stack\n",
        "\n",
        "def print_stack(stack):\n",
        "\n",
        "    if (check_empty(stack)):\n",
        "            return \"stack is empty\"\n",
        "\n",
        "    # Create a copy of the stack and reverse the elements\n",
        "    tempStack = stack.copy()\n",
        "    tempStack.reverse()\n",
        "\n",
        "    # Print all elements using a loop\n",
        "    for i in tempStack:\n",
        "        print(i)\n",
        "\n",
        "    # Delete the copy to free up memory\n",
        "    del tempStack\n",
        "\n",
        "# Creating an empty stack\n",
        "def check_empty(stack):\n",
        "    return len(stack) == 0\n",
        "\n",
        "\n",
        "# Adding items into the stack\n",
        "def push(stack, item):\n",
        "    stack.append(item)\n",
        "    print(\"pushed item: \", item)\n",
        "\n",
        "\n",
        "# Removing an element from the stack\n",
        "def pop(stack):\n",
        "    if (check_empty(stack)):\n",
        "        return \"stack is empty\"\n",
        "\n",
        "    return stack.pop()\n",
        "\n",
        "def peek(stack):\n",
        "\n",
        "    # Use negative indexing to display the last element of the list\n",
        "    print(stack[-1])\n"
      ]
    },
    {
      "cell_type": "markdown",
      "metadata": {
        "id": "z5FA3bY38JJT"
      },
      "source": [
        "#### 1. Create a burger stack.  \n",
        "\n",
        "The output of the stack should be in this order:\n",
        "\n",
        "- Bun\n",
        "\n",
        "- Tomato\n",
        "\n",
        "- Lettuce\n",
        "\n",
        "- Cheese\n",
        "\n",
        "- Patty\n",
        "\n",
        "- Bun"
      ]
    },
    {
      "cell_type": "code",
      "execution_count": 28,
      "metadata": {
        "id": "n6yPehQq8JJU"
      },
      "outputs": [],
      "source": [
        "# Create a new stack named burger_stack by calling the create_stack() function\n",
        "burger_stack = create_stack()"
      ]
    },
    {
      "cell_type": "code",
      "source": [
        "# Push or add each element (each of the burger ingredient) into the burger_stack\n",
        "push(burger_stack, \"Bun\")\n",
        "push(burger_stack, \"Patty\")\n",
        "push(burger_stack, \"Cheese\")\n",
        "push(burger_stack, \"Lettuce\")\n",
        "push(burger_stack, \"Tomato\")\n",
        "push(burger_stack, \"Bun\")"
      ],
      "metadata": {
        "colab": {
          "base_uri": "https://localhost:8080/"
        },
        "id": "8wzvcj9nJd1W",
        "outputId": "4d20d9ee-abea-421e-d2c6-a19f5cba1a9e"
      },
      "execution_count": 29,
      "outputs": [
        {
          "output_type": "stream",
          "name": "stdout",
          "text": [
            "pushed item:  Bun\n",
            "pushed item:  Patty\n",
            "pushed item:  Cheese\n",
            "pushed item:  Lettuce\n",
            "pushed item:  Tomato\n",
            "pushed item:  Bun\n"
          ]
        }
      ]
    },
    {
      "cell_type": "code",
      "source": [
        "# Print the output (the burger ingredients) from the burger_stack\n",
        "print_stack(burger_stack)"
      ],
      "metadata": {
        "colab": {
          "base_uri": "https://localhost:8080/"
        },
        "id": "Wa6K9-suJfVZ",
        "outputId": "62d48d80-65e8-4f30-ad97-b19ee0e40119"
      },
      "execution_count": 30,
      "outputs": [
        {
          "output_type": "stream",
          "name": "stdout",
          "text": [
            "Bun\n",
            "Tomato\n",
            "Lettuce\n",
            "Cheese\n",
            "Patty\n",
            "Bun\n"
          ]
        }
      ]
    },
    {
      "cell_type": "markdown",
      "metadata": {
        "id": "W4XvryDA8JJU"
      },
      "source": [
        "#### 2. Reverse a string using a stack\n",
        "\n",
        "Given two stacks:\n",
        "\n",
        "**name_stack = ['E', 'L', 'I', 'Z', 'E', 'R']**\n",
        "\n",
        "**reversed_stack = []**\n",
        "\n",
        "Use your **firstname** and pop each letter from the **name_stack** and push each element into the **reversed_stack**\n",
        "\n",
        "-----------------\n",
        "**Expected output:**\n",
        "\n",
        "print(reversed_stack)\n",
        "\n",
        "['R', 'E', 'Z', 'I', 'L', 'E']"
      ]
    },
    {
      "cell_type": "code",
      "execution_count": 31,
      "metadata": {
        "id": "BuPMzC-g8JJV"
      },
      "outputs": [],
      "source": [
        "# Create the first stack named name_stack by calling the create_stack() function\n",
        "name_stack = create_stack()"
      ]
    },
    {
      "cell_type": "code",
      "source": [
        "# Push or add each element (each letters of the first name) into the name_stack\n",
        "push(name_stack, 'J')\n",
        "push(name_stack, 'O')\n",
        "push(name_stack, 'S')\n",
        "push(name_stack, 'E')\n",
        "push(name_stack, 'P')\n",
        "push(name_stack, 'H')\n",
        "push(name_stack, 'I')\n",
        "push(name_stack, 'N')\n",
        "push(name_stack, 'E')"
      ],
      "metadata": {
        "colab": {
          "base_uri": "https://localhost:8080/"
        },
        "id": "jsge7ApQ5JMC",
        "outputId": "413e00a7-564f-4dce-c7b2-2df8a101287c"
      },
      "execution_count": 32,
      "outputs": [
        {
          "output_type": "stream",
          "name": "stdout",
          "text": [
            "pushed item:  J\n",
            "pushed item:  O\n",
            "pushed item:  S\n",
            "pushed item:  E\n",
            "pushed item:  P\n",
            "pushed item:  H\n",
            "pushed item:  I\n",
            "pushed item:  N\n",
            "pushed item:  E\n"
          ]
        }
      ]
    },
    {
      "cell_type": "code",
      "source": [
        "# Create the second stack by calling the create_stack() function\n",
        "reversed_stack = create_stack()     # A stack to store each letters of the first name in reversed order"
      ],
      "metadata": {
        "id": "3MG5zcdrJuTx"
      },
      "execution_count": 33,
      "outputs": []
    },
    {
      "cell_type": "code",
      "source": [
        "# A while not loop to pop each letter from the name_stack and push each letter into the reversed_stack\n",
        "while not check_empty(name_stack):\n",
        "    letter = pop(name_stack)\n",
        "    push(reversed_stack, letter)"
      ],
      "metadata": {
        "colab": {
          "base_uri": "https://localhost:8080/"
        },
        "id": "K2oh_fQJJzPt",
        "outputId": "6b0819f4-e590-409c-aa92-d873af56dcd8"
      },
      "execution_count": 34,
      "outputs": [
        {
          "output_type": "stream",
          "name": "stdout",
          "text": [
            "pushed item:  E\n",
            "pushed item:  N\n",
            "pushed item:  I\n",
            "pushed item:  H\n",
            "pushed item:  P\n",
            "pushed item:  E\n",
            "pushed item:  S\n",
            "pushed item:  O\n",
            "pushed item:  J\n"
          ]
        }
      ]
    },
    {
      "cell_type": "code",
      "source": [
        "# Print the output (each letters of the first name in reversed order) from the reversed_stack\n",
        "print(reversed_stack)"
      ],
      "metadata": {
        "colab": {
          "base_uri": "https://localhost:8080/"
        },
        "id": "5xSYXELqJ36M",
        "outputId": "cbd3c445-d588-4176-c56c-032162009c16"
      },
      "execution_count": 35,
      "outputs": [
        {
          "output_type": "stream",
          "name": "stdout",
          "text": [
            "['E', 'N', 'I', 'H', 'P', 'E', 'S', 'O', 'J']\n"
          ]
        }
      ]
    },
    {
      "cell_type": "markdown",
      "metadata": {
        "id": "coRKfCPZ8JJV"
      },
      "source": [
        "#### 3. Remove elements using a stack\n",
        "\n",
        "Given this stack:\n",
        "\n",
        "numbers = [1,2,3,4,5,6,7,8,9,10]\n",
        "\n",
        "new_stack = []\n",
        "\n",
        "Using the **pop()** function, push elements in the **new_stack** if they are an **even number**\n",
        "\n",
        "-----------------\n",
        "\n",
        "**Expected output:**\n",
        "\n",
        "print(new_stack)\n",
        "\n",
        "[2,4,6,8,10]"
      ]
    },
    {
      "cell_type": "code",
      "execution_count": 36,
      "metadata": {
        "id": "zTXYampp8JJV"
      },
      "outputs": [],
      "source": [
        "# Create the first stack named numbers by calling the create_stack() function\n",
        "numbers = create_stack()"
      ]
    },
    {
      "cell_type": "code",
      "source": [
        "# Push or add each element (each number in the given number set) into the numbers stack\n",
        "push(numbers, 1)\n",
        "push(numbers, 2)\n",
        "push(numbers, 3)\n",
        "push(numbers, 4)\n",
        "push(numbers, 5)\n",
        "push(numbers, 6)\n",
        "push(numbers, 7)\n",
        "push(numbers, 8)\n",
        "push(numbers, 9)\n",
        "push(numbers, 10)"
      ],
      "metadata": {
        "colab": {
          "base_uri": "https://localhost:8080/"
        },
        "id": "wTo48kBm5aEq",
        "outputId": "7e7e706f-37b3-4454-bd5d-0444d1b71fe2"
      },
      "execution_count": 37,
      "outputs": [
        {
          "output_type": "stream",
          "name": "stdout",
          "text": [
            "pushed item:  1\n",
            "pushed item:  2\n",
            "pushed item:  3\n",
            "pushed item:  4\n",
            "pushed item:  5\n",
            "pushed item:  6\n",
            "pushed item:  7\n",
            "pushed item:  8\n",
            "pushed item:  9\n",
            "pushed item:  10\n"
          ]
        }
      ]
    },
    {
      "cell_type": "code",
      "source": [
        "# Create the second stack named new_stack by calling the create_stack() function\n",
        "new_stack = create_stack()      # A stack to store the sorted even numbers"
      ],
      "metadata": {
        "id": "ksjl1HKBJ_Jl"
      },
      "execution_count": 38,
      "outputs": []
    },
    {
      "cell_type": "code",
      "source": [
        "# A while not loop to pop each number from the numbers stack and push each even number into the new_stack\n",
        "while not check_empty(numbers):\n",
        "    number = pop(numbers)\n",
        "    if number % 2 == 0:     # An if statement to check for an even number\n",
        "        push(new_stack, number)\n",
        "\n",
        "# Reverse the new_stack to sort the even numbers in an ascending order\n",
        "new_stack.reverse()"
      ],
      "metadata": {
        "colab": {
          "base_uri": "https://localhost:8080/"
        },
        "id": "JKV64cZ8KC34",
        "outputId": "687a4726-aba6-4c18-82c7-3c649d9170b8"
      },
      "execution_count": 39,
      "outputs": [
        {
          "output_type": "stream",
          "name": "stdout",
          "text": [
            "pushed item:  10\n",
            "pushed item:  8\n",
            "pushed item:  6\n",
            "pushed item:  4\n",
            "pushed item:  2\n"
          ]
        }
      ]
    },
    {
      "cell_type": "code",
      "source": [
        "# Print the output (the even numbers in an ascending order) from the new_stack\n",
        "print(new_stack)"
      ],
      "metadata": {
        "colab": {
          "base_uri": "https://localhost:8080/"
        },
        "id": "yilwXCI-KIHe",
        "outputId": "2b4ec7aa-b99f-4386-daa4-067bfda3e130"
      },
      "execution_count": 40,
      "outputs": [
        {
          "output_type": "stream",
          "name": "stdout",
          "text": [
            "[2, 4, 6, 8, 10]\n"
          ]
        }
      ]
    },
    {
      "cell_type": "markdown",
      "metadata": {
        "id": "1s4LGmuT8JJW"
      },
      "source": [
        "#### 4. Inserting elements into a stack\n",
        "\n",
        "Given two stacks:\n",
        "\n",
        "my_stack = ['E', 'L', 'I', 'Z', 'E', 'R', 'P', 'O', 'N', 'I', 'O', 'J', 'R']\n",
        "\n",
        "empty_stack = []\n",
        "\n",
        "Use **pop()** to get each element from  **my_stack** and use **push()** to insert the element to **empty_stack** only if:\n",
        "\n",
        "1. The element is a **vowel**\n",
        "2. The element does not exist in **empty_stack**\n",
        "\n",
        "----------------------\n",
        "\n",
        "**Expected output:**\n",
        "\n",
        "print_stack(empty_stack)\n",
        "\n",
        "['E', 'I', 'O']"
      ]
    },
    {
      "cell_type": "code",
      "execution_count": 41,
      "metadata": {
        "id": "cGXh7yd18JJW"
      },
      "outputs": [],
      "source": [
        "# Create the first given stack named my_stack by calling the create_stack() function\n",
        "my_stack = create_stack()"
      ]
    },
    {
      "cell_type": "code",
      "source": [
        "# Push or add each element (each letters of the given full name) into the my_stack\n",
        "push(my_stack, 'E')\n",
        "push(my_stack, 'L')\n",
        "push(my_stack, 'I')\n",
        "push(my_stack, 'Z')\n",
        "push(my_stack, 'E')\n",
        "push(my_stack, 'R')\n",
        "\n",
        "push(my_stack, 'P')\n",
        "push(my_stack, 'O')\n",
        "push(my_stack, 'N')\n",
        "push(my_stack, 'I')\n",
        "push(my_stack, 'O')\n",
        "\n",
        "push(my_stack, 'J')\n",
        "push(my_stack, 'R')"
      ],
      "metadata": {
        "colab": {
          "base_uri": "https://localhost:8080/"
        },
        "id": "xXEJazYY8Z8r",
        "outputId": "172c37aa-9bbf-43ea-913a-76da86cf2f88"
      },
      "execution_count": 42,
      "outputs": [
        {
          "output_type": "stream",
          "name": "stdout",
          "text": [
            "pushed item:  E\n",
            "pushed item:  L\n",
            "pushed item:  I\n",
            "pushed item:  Z\n",
            "pushed item:  E\n",
            "pushed item:  R\n",
            "pushed item:  P\n",
            "pushed item:  O\n",
            "pushed item:  N\n",
            "pushed item:  I\n",
            "pushed item:  O\n",
            "pushed item:  J\n",
            "pushed item:  R\n"
          ]
        }
      ]
    },
    {
      "cell_type": "code",
      "source": [
        "# Create the second stack named empty_stack by calling the create_stack() function\n",
        "empty_stack = create_stack()    # A stack to store the sorted vowels"
      ],
      "metadata": {
        "id": "Pv9ilOOqKRxM"
      },
      "execution_count": 43,
      "outputs": []
    },
    {
      "cell_type": "code",
      "source": [
        "# Declare a variable named vowels and initialize each of the vowels\n",
        "vowels = 'AEIOU'"
      ],
      "metadata": {
        "id": "HTnYNqUGKUEW"
      },
      "execution_count": 44,
      "outputs": []
    },
    {
      "cell_type": "code",
      "source": [
        "# A while not loop to pop each letter from the my_stack and push each letter into the empty_stack\n",
        "while not check_empty(my_stack):\n",
        "    letter = pop(my_stack)\n",
        "\n",
        "    if letter in vowels and letter not in empty_stack:    # An if statement to check if the letter is a vowel\n",
        "        push(empty_stack, letter)                         # and of its instance into the empty_stack"
      ],
      "metadata": {
        "colab": {
          "base_uri": "https://localhost:8080/"
        },
        "id": "69l-NdFhKcRL",
        "outputId": "634f79b0-e393-4cdf-db0c-27ff9d5e2128"
      },
      "execution_count": 45,
      "outputs": [
        {
          "output_type": "stream",
          "name": "stdout",
          "text": [
            "pushed item:  O\n",
            "pushed item:  I\n",
            "pushed item:  E\n"
          ]
        }
      ]
    },
    {
      "cell_type": "code",
      "source": [
        "# Print the output (the vowels in the full name) of the empty_stack\n",
        "print(empty_stack)"
      ],
      "metadata": {
        "colab": {
          "base_uri": "https://localhost:8080/"
        },
        "id": "A9-yPcWTK2Jh",
        "outputId": "6349e743-d9b8-4709-e413-9ddfa0f0dc06"
      },
      "execution_count": 46,
      "outputs": [
        {
          "output_type": "stream",
          "name": "stdout",
          "text": [
            "['O', 'I', 'E']\n"
          ]
        }
      ]
    },
    {
      "cell_type": "markdown",
      "metadata": {
        "id": "cwtpya5m8JJX"
      },
      "source": [
        "#### 5. Sort elements in a stack\n",
        "\n",
        "Given two stacks:\n",
        "\n",
        "number_stack = [3,1,2]\n",
        "\n",
        "sorted_stack = []\n",
        "\n",
        "Create a **sort()** function to pop each element from the **number_stack** and push each element into the **sorted_stack**. The elements in **sorted_stack** must be in ascending order.\n",
        "\n",
        "----------------\n",
        "\n",
        "**Hint:**\n",
        "\n",
        "| iteration | number_stack | sorted_stack |\n",
        "| --- | --- | --- |\n",
        "| 1 | [3, 1, 2] | [] |\n",
        "| 2 | [3, 1] | [2] |\n",
        "| 3 | [3, 2] | [1] |\n",
        "| 4 | [3] | [1, 2] |\n",
        "| 5 | [] | [1, 2, 3] |\n",
        "\n",
        "**Expected output:**\n",
        "\n",
        "print(sorted_stack)\n",
        "\n",
        "[1, 2, 3]"
      ]
    },
    {
      "cell_type": "code",
      "execution_count": 47,
      "metadata": {
        "id": "XrLee2zo8JJX"
      },
      "outputs": [],
      "source": [
        "# A sort function to pop each number from the number_stack and push each number into the sorted stack in an ascending order\n",
        "def sort(number_stack, sorted_stack):\n",
        "\n",
        "    while not check_empty(number_stack):\n",
        "        number = pop(number_stack)\n",
        "\n",
        "        while not check_empty(sorted_stack) and sorted_stack[-1] > number:     # A while not statement to sort each\n",
        "            push(number_stack, pop(sorted_stack))                              # popped number in an increasing order\n",
        "\n",
        "        push(sorted_stack, number)"
      ]
    },
    {
      "cell_type": "code",
      "source": [
        "# Create the first given stack named number_stack by calling the create_stack() function\n",
        "number_stack = create_stack()"
      ],
      "metadata": {
        "id": "0i73LVPQLPyu"
      },
      "execution_count": 48,
      "outputs": []
    },
    {
      "cell_type": "code",
      "source": [
        "# Push or add each element (each number in the given unsorted number set) into the number_stack\n",
        "push(number_stack, 3)\n",
        "push(number_stack, 1)\n",
        "push(number_stack, 2)"
      ],
      "metadata": {
        "colab": {
          "base_uri": "https://localhost:8080/"
        },
        "id": "Z3XJY3n59U-K",
        "outputId": "c3081e48-36b8-42c4-c2d9-a9a3444457cd"
      },
      "execution_count": 49,
      "outputs": [
        {
          "output_type": "stream",
          "name": "stdout",
          "text": [
            "pushed item:  3\n",
            "pushed item:  1\n",
            "pushed item:  2\n"
          ]
        }
      ]
    },
    {
      "cell_type": "code",
      "source": [
        "# Create the second given stack named sorted_stack by calling the create_stack() function\n",
        "sorted_stack = create_stack()"
      ],
      "metadata": {
        "id": "yZ_R9MajLayH"
      },
      "execution_count": 50,
      "outputs": []
    },
    {
      "cell_type": "code",
      "source": [
        "# Call the sort function and use the two given stacks, the number_stack and the sorted_stack, as its arguments\n",
        "sort(number_stack, sorted_stack)"
      ],
      "metadata": {
        "colab": {
          "base_uri": "https://localhost:8080/"
        },
        "id": "fHVX3U4SLdh7",
        "outputId": "a23d38a2-9741-40b5-9987-4084c4548040"
      },
      "execution_count": 51,
      "outputs": [
        {
          "output_type": "stream",
          "name": "stdout",
          "text": [
            "pushed item:  2\n",
            "pushed item:  2\n",
            "pushed item:  1\n",
            "pushed item:  2\n",
            "pushed item:  3\n"
          ]
        }
      ]
    },
    {
      "cell_type": "code",
      "source": [
        "# Print the output (the sorted numbers in an ascending order) of the sorted_stack\n",
        "print(sorted_stack)"
      ],
      "metadata": {
        "colab": {
          "base_uri": "https://localhost:8080/"
        },
        "id": "iZ3mCJG-Lirg",
        "outputId": "01556668-f4e2-40ef-9ad6-b5599e56d4ca"
      },
      "execution_count": 52,
      "outputs": [
        {
          "output_type": "stream",
          "name": "stdout",
          "text": [
            "[1, 2, 3]\n"
          ]
        }
      ]
    }
  ],
  "metadata": {
    "kernelspec": {
      "display_name": "Python 3",
      "language": "python",
      "name": "python3"
    },
    "language_info": {
      "codemirror_mode": {
        "name": "ipython",
        "version": 3
      },
      "file_extension": ".py",
      "mimetype": "text/x-python",
      "name": "python",
      "nbconvert_exporter": "python",
      "pygments_lexer": "ipython3",
      "version": "3.11.4"
    },
    "orig_nbformat": 4,
    "colab": {
      "provenance": [],
      "include_colab_link": true
    }
  },
  "nbformat": 4,
  "nbformat_minor": 0
}