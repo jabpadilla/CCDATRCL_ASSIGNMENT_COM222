{
  "cells": [
    {
      "cell_type": "markdown",
      "metadata": {
        "id": "view-in-github",
        "colab_type": "text"
      },
      "source": [
        "<a href=\"https://colab.research.google.com/github/jabpadilla/CCDATRCL_ASSIGNMENT_COM222/blob/main/exercise5.ipynb\" target=\"_parent\"><img src=\"https://colab.research.google.com/assets/colab-badge.svg\" alt=\"Open In Colab\"/></a>"
      ]
    },
    {
      "cell_type": "markdown",
      "metadata": {
        "id": "dvG_AnadjqB9"
      },
      "source": [
        "# Exercise 5"
      ]
    },
    {
      "cell_type": "markdown",
      "metadata": {
        "id": "yFN9_VINjqCM"
      },
      "source": [
        "#### 1. Create a dictionary of your 10 favorite songs."
      ]
    },
    {
      "cell_type": "markdown",
      "metadata": {
        "id": "35X1zKqHjqCO"
      },
      "source": [
        "Example:\n",
        "\n",
        "|KEY|VALUE|\n",
        "|---|---|\n",
        "|001|My Love|\n",
        "|002|Like a rose|"
      ]
    },
    {
      "cell_type": "code",
      "execution_count": null,
      "metadata": {
        "id": "GULHZcuvjqCQ",
        "colab": {
          "base_uri": "https://localhost:8080/"
        },
        "outputId": "94b73709-e7f8-4755-e86c-54728c8e0d7d"
      },
      "outputs": [
        {
          "output_type": "stream",
          "name": "stdout",
          "text": [
            "{'001': 'Like Me', '002': 'Homebody', '003': 'Nerdy Love', '004': '365&7', '005': 'iffy', '006': 'WA-R-R', '007': 'Rain Song', '008': \"I'm Inlove\", '009': 'It Takes Time', '010': 'When the Dawn Comes Again'}\n"
          ]
        }
      ],
      "source": [
        "mydictionary = {\n",
        "\"001\": \"Like Me\",\n",
        "\"002\": \"Homebody\",\n",
        "\"003\": \"Nerdy Love\",\n",
        "\"004\": \"365&7\",\n",
        "\"005\": \"iffy\",\n",
        "\"006\": \"WA-R-R\",\n",
        "\"007\": \"Rain Song\",\n",
        "\"008\": \"I'm Inlove\",\n",
        "\"009\": \"It Takes Time\",\n",
        "\"010\": \"When the Dawn Comes Again\"\n",
        "}\n",
        "print(mydictionary)"
      ]
    },
    {
      "cell_type": "markdown",
      "metadata": {
        "id": "7k8VfTvNjqCW"
      },
      "source": [
        "#### 2. Loop through the dictionary by its **key** and **value**"
      ]
    },
    {
      "cell_type": "code",
      "execution_count": null,
      "metadata": {
        "id": "R_EHsGVHjqCX",
        "colab": {
          "base_uri": "https://localhost:8080/"
        },
        "outputId": "c8901e47-49ef-4027-d067-e6babada874e"
      },
      "outputs": [
        {
          "output_type": "stream",
          "name": "stdout",
          "text": [
            "001 Like Me\n",
            "002 Homebody\n",
            "003 Nerdy Love\n",
            "004 365&7\n",
            "005 iffy\n",
            "006 WA-R-R\n",
            "007 Rain Song\n",
            "008 I'm Inlove\n",
            "009 It Takes Time\n",
            "010 When the Dawn Comes Again\n"
          ]
        }
      ],
      "source": [
        "for x,y in mydictionary.items():\n",
        "   print(x,y)"
      ]
    },
    {
      "cell_type": "markdown",
      "metadata": {
        "id": "vAwWbwNejqCZ"
      },
      "source": [
        "#### 3. Add one additional song"
      ]
    },
    {
      "cell_type": "code",
      "execution_count": null,
      "metadata": {
        "id": "8YGP_TZCjqCb",
        "colab": {
          "base_uri": "https://localhost:8080/"
        },
        "outputId": "494fede7-922e-4da6-da4c-967ff67f299a"
      },
      "outputs": [
        {
          "output_type": "execute_result",
          "data": {
            "text/plain": [
              "{'001': 'Like Me',\n",
              " '002': 'Homebody',\n",
              " '003': 'Nerdy Love',\n",
              " '004': '365&7',\n",
              " '005': 'iffy',\n",
              " '006': 'WA-R-R',\n",
              " '007': 'Rain Song',\n",
              " '008': \"I'm Inlove\",\n",
              " '009': 'It Takes Time',\n",
              " '010': 'When the Dawn Comes Again',\n",
              " '011': 'instagram'}"
            ]
          },
          "metadata": {},
          "execution_count": 4
        }
      ],
      "source": [
        "mydictionary[\"011\"] = \"instagram\"\n",
        "mydictionary"
      ]
    },
    {
      "cell_type": "markdown",
      "metadata": {
        "id": "h5PrKSGkjqCd"
      },
      "source": [
        "#### 4. Remove one song"
      ]
    },
    {
      "cell_type": "code",
      "execution_count": null,
      "metadata": {
        "id": "ih5wtykXjqCe",
        "colab": {
          "base_uri": "https://localhost:8080/"
        },
        "outputId": "67726fd8-cdf5-416c-e918-f41a8ad951e3"
      },
      "outputs": [
        {
          "output_type": "execute_result",
          "data": {
            "text/plain": [
              "{'001': 'Like Me',\n",
              " '002': 'Homebody',\n",
              " '003': 'Nerdy Love',\n",
              " '004': '365&7',\n",
              " '005': 'iffy',\n",
              " '006': 'WA-R-R',\n",
              " '007': 'Rain Song',\n",
              " '009': 'It Takes Time',\n",
              " '010': 'When the Dawn Comes Again',\n",
              " '011': 'instagram'}"
            ]
          },
          "metadata": {},
          "execution_count": 8
        }
      ],
      "source": [
        "mydictionary.pop('008')\n",
        "mydictionary"
      ]
    },
    {
      "cell_type": "markdown",
      "metadata": {
        "id": "KFiiGwlkjqCf"
      },
      "source": [
        "#### 5. Create a nested dictionary of your 10 favorite songs with 5 genres. Display all of the items of the nested dictionary\n",
        "\n",
        "- Each nested dictionary's key should be the genre of the song\n",
        "- Put each song in their respective genre"
      ]
    },
    {
      "cell_type": "markdown",
      "metadata": {
        "id": "gzKG0mlAjqCh"
      },
      "source": [
        "Example:\n",
        "\n",
        "\n",
        "|KEY|VALUE|\n",
        "|---|---|\n",
        "|Pop|{001, Baby}|\n",
        "|Rock|{001, Enter Sandman}|"
      ]
    },
    {
      "cell_type": "code",
      "execution_count": null,
      "metadata": {
        "id": "hKBqQ5pjjqCh",
        "colab": {
          "base_uri": "https://localhost:8080/"
        },
        "outputId": "22f29cc2-287f-4ccc-a4cf-2b3647b77c05"
      },
      "outputs": [
        {
          "output_type": "execute_result",
          "data": {
            "text/plain": [
              "{'KRNB': {'001': 'heyahe', '002': \"Gettin' by\"},\n",
              " 'Pop': {'001': 'Want You Back', '002': 'Youngblood'},\n",
              " 'OPM': {'001': 'Maharani', '002': 'Tuliro'},\n",
              " 'KPop': {'001': 'Pop', '002': 'Rover'},\n",
              " 'Hiphop': {'001': 'Money Trees', '002': 'Alright'}}"
            ]
          },
          "metadata": {},
          "execution_count": 11
        }
      ],
      "source": [
        "mydictionary = {\n",
        "    \"KRNB\":{\n",
        "        \"001\": \"heyahe\",\n",
        "        \"002\": \"Gettin' by\"\n",
        "    },\n",
        "    \"Pop\":{\n",
        "        \"001\": \"Want You Back\",\n",
        "        \"002\": \"Youngblood\"\n",
        "    },\n",
        "    \"OPM\":{\n",
        "       \"001\": \"Maharani\",\n",
        "       \"002\": \"Tuliro\"\n",
        "    },\n",
        "    \"KPop\":{\n",
        "       \"001\": \"Pop\",\n",
        "       \"002\": \"Rover\"\n",
        "    },\n",
        "    \"Hiphop\":{\n",
        "       \"001\": \"Money Trees\",\n",
        "       \"002\": \"Alright\"\n",
        "    }\n",
        "}\n",
        "mydictionary"
      ]
    },
    {
      "cell_type": "markdown",
      "metadata": {
        "id": "H4Obsv1EjqCi"
      },
      "source": [
        "#### 6. Print the first song of the first genre"
      ]
    },
    {
      "cell_type": "code",
      "execution_count": null,
      "metadata": {
        "id": "sUZLpRtKjqCj",
        "colab": {
          "base_uri": "https://localhost:8080/"
        },
        "outputId": "0f57ecf5-449f-4c52-a65b-9f422d1c2152"
      },
      "outputs": [
        {
          "output_type": "stream",
          "name": "stdout",
          "text": [
            "heyahe\n"
          ]
        }
      ],
      "source": [
        "print(mydictionary[\"KRNB\"][\"001\"])"
      ]
    },
    {
      "cell_type": "markdown",
      "metadata": {
        "id": "7-DVm1hYjqCk"
      },
      "source": [
        "#### 7. Print the first song of the last genre"
      ]
    },
    {
      "cell_type": "code",
      "execution_count": null,
      "metadata": {
        "id": "pcHpS-P3jqCk",
        "colab": {
          "base_uri": "https://localhost:8080/"
        },
        "outputId": "50e38046-ca2c-4458-92ee-d743b65eda24"
      },
      "outputs": [
        {
          "output_type": "stream",
          "name": "stdout",
          "text": [
            "Money Trees\n"
          ]
        }
      ],
      "source": [
        "print(mydictionary[\"Hiphop\"][\"001\"])"
      ]
    }
  ],
  "metadata": {
    "kernelspec": {
      "display_name": "Python 3",
      "language": "python",
      "name": "python3"
    },
    "language_info": {
      "codemirror_mode": {
        "name": "ipython",
        "version": 3
      },
      "file_extension": ".py",
      "mimetype": "text/x-python",
      "name": "python",
      "nbconvert_exporter": "python",
      "pygments_lexer": "ipython3",
      "version": "3.11.4"
    },
    "orig_nbformat": 4,
    "colab": {
      "provenance": [],
      "include_colab_link": true
    }
  },
  "nbformat": 4,
  "nbformat_minor": 0
}