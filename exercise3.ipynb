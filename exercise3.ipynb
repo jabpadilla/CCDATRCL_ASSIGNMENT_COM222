{
  "cells": [
    {
      "cell_type": "markdown",
      "metadata": {
        "id": "view-in-github",
        "colab_type": "text"
      },
      "source": [
        "<a href=\"https://colab.research.google.com/github/jabpadilla/CCDATRCL_ASSIGNMENT_COM222/blob/main/exercise3.ipynb\" target=\"_parent\"><img src=\"https://colab.research.google.com/assets/colab-badge.svg\" alt=\"Open In Colab\"/></a>"
      ]
    },
    {
      "cell_type": "markdown",
      "metadata": {
        "id": "92FOE1S74OCt"
      },
      "source": [
        "# Exercise 3"
      ]
    },
    {
      "cell_type": "markdown",
      "metadata": {
        "id": "zeRAyuuy4OCw"
      },
      "source": [
        "#### Pre-defined classes"
      ]
    },
    {
      "cell_type": "markdown",
      "metadata": {
        "id": "nbyKr8_A4OCx"
      },
      "source": [
        "Pre-defined Queue class"
      ]
    },
    {
      "cell_type": "code",
      "execution_count": 1,
      "metadata": {
        "id": "9XNFS_1A4OCx"
      },
      "outputs": [],
      "source": [
        "class Queue:\n",
        "    def __init__(self):\n",
        "        self.queue = []\n",
        "\n",
        "    # Add an element\n",
        "    def enqueue(self, item):\n",
        "        self.queue.append(item)\n",
        "\n",
        "    # Remove an element\n",
        "    def dequeue(self):\n",
        "        if len(self.queue) < 1:\n",
        "            return None\n",
        "        return self.queue.pop(0)\n",
        "\n",
        "    # Display  the queue\n",
        "    def display(self):\n",
        "        print(self.queue)\n",
        "\n",
        "    def size(self):\n",
        "        return len(self.queue)\n",
        "\n",
        "    def peek(self):\n",
        "        return self.queue[0]\n"
      ]
    },
    {
      "cell_type": "markdown",
      "metadata": {
        "id": "WYbGgenj4OCy"
      },
      "source": [
        "Pre-defined Deque class"
      ]
    },
    {
      "cell_type": "code",
      "execution_count": 2,
      "metadata": {
        "id": "4tSx5C6T4OCy"
      },
      "outputs": [],
      "source": [
        "class Deque:\n",
        "    def __init__(self):\n",
        "        self.items = []\n",
        "\n",
        "    def isEmpty(self):\n",
        "        return self.items == []\n",
        "\n",
        "    def addRear(self, item):\n",
        "        self.items.append(item)\n",
        "\n",
        "    def addFront(self, item):\n",
        "        self.items.insert(0, item)\n",
        "\n",
        "    def removeFront(self):\n",
        "        return self.items.pop(0)\n",
        "\n",
        "    def removeRear(self):\n",
        "        return self.items.pop()\n",
        "\n",
        "    def size(self):\n",
        "        return len(self.items)"
      ]
    },
    {
      "cell_type": "markdown",
      "metadata": {
        "id": "UbfKTT414OCz"
      },
      "source": [
        "Pre-defined Circular Queue class"
      ]
    },
    {
      "cell_type": "code",
      "execution_count": 3,
      "metadata": {
        "id": "PdFkvi8n4OCz"
      },
      "outputs": [],
      "source": [
        "class CircularQueue():\n",
        "\n",
        "    def __init__(self, k):\n",
        "        self.k = k\n",
        "        self.queue = [None] * k\n",
        "        self.head = self.tail = -1\n",
        "\n",
        "    # Insert an element into the circular queue\n",
        "    def enqueue(self, data):\n",
        "\n",
        "        if ((self.tail + 1) % self.k == self.head):\n",
        "            print(\"The circular queue is full\\n\")\n",
        "\n",
        "        elif (self.head == -1):\n",
        "            self.head = 0\n",
        "            self.tail = 0\n",
        "            self.queue[self.tail] = data\n",
        "        else:\n",
        "            self.tail = (self.tail + 1) % self.k\n",
        "            self.queue[self.tail] = data\n",
        "\n",
        "    # Delete an element from the circular queue\n",
        "    def dequeue(self):\n",
        "        if (self.head == -1):\n",
        "            print(\"The circular queue is empty\\n\")\n",
        "\n",
        "        elif (self.head == self.tail):\n",
        "            temp = self.queue[self.head]\n",
        "            self.head = -1\n",
        "            self.tail = -1\n",
        "            return temp\n",
        "        else:\n",
        "            temp = self.queue[self.head]\n",
        "            self.head = (self.head + 1) % self.k\n",
        "            return temp\n",
        "\n",
        "    def printCQueue(self):\n",
        "        if(self.head == -1):\n",
        "            print(\"No element in the circular queue\")\n",
        "\n",
        "        elif (self.tail >= self.head):\n",
        "            for i in range(self.head, self.tail + 1):\n",
        "                print(self.queue[i], end=\" \")\n",
        "            print()\n",
        "        else:\n",
        "            for i in range(self.head, self.k):\n",
        "                print(self.queue[i], end=\" \")\n",
        "            for i in range(0, self.tail + 1):\n",
        "                print(self.queue[i], end=\" \")\n",
        "            print()\n"
      ]
    },
    {
      "cell_type": "markdown",
      "metadata": {
        "id": "SyGFfzsQ4OC0"
      },
      "source": [
        "Pre-defined Priority Queue Class"
      ]
    },
    {
      "cell_type": "code",
      "execution_count": 4,
      "metadata": {
        "id": "mp_ut_Ki4OC0"
      },
      "outputs": [],
      "source": [
        "class PriorityQueueNode:\n",
        "    def __init__(self, value, pr):\n",
        "\n",
        "        self.data = value\n",
        "        self.priority = pr\n",
        "        self.next = None"
      ]
    },
    {
      "cell_type": "code",
      "execution_count": 5,
      "metadata": {
        "id": "jQ_bWpwM4OC0"
      },
      "outputs": [],
      "source": [
        "class PriorityQueue:\n",
        "\n",
        "\tdef __init__(self):\n",
        "\n",
        "\t\tself.front = None\n",
        "\n",
        "\t# Method to check Priority Queue is Empty\n",
        "\t# or not if Empty then it will return True\n",
        "\t# Otherwise False\n",
        "\tdef isEmpty(self):\n",
        "\n",
        "\t\treturn True if self.front == None else False\n",
        "\n",
        "\t# Method to add items in Priority Queue\n",
        "\t# According to their priority value\n",
        "\tdef push(self, value, priority):\n",
        "\n",
        "\t\t# Condition check for checking Priority\n",
        "\t\t# Queue is empty or not\n",
        "\t\tif self.isEmpty() == True:\n",
        "\n",
        "\t\t\t# Creating a new node and assigning\n",
        "\t\t\t# it to class variable\n",
        "\t\t\tself.front = PriorityQueueNode(value, priority)\n",
        "\n",
        "\t\t\t# Returning 1 for successful execution\n",
        "\t\t\treturn 1\n",
        "\n",
        "\t\telse:\n",
        "\n",
        "\t\t\t# Special condition check to see that\n",
        "\t\t\t# first node priority value\n",
        "\t\t\tif self.front.priority > priority:\n",
        "\t\t\t\t# Creating a new node\n",
        "\t\t\t\tnewNode = PriorityQueueNode(value, priority)\n",
        "\t\t\t\t# Updating the new node next value\n",
        "\t\t\t\tnewNode.next = self.front\n",
        "\n",
        "\t\t\t\t# Assigning it to self.front\n",
        "\t\t\t\tself.front = newNode\n",
        "\n",
        "\t\t\t\t# Returning 1 for successful execution\n",
        "\t\t\t\treturn 1\n",
        "\n",
        "\t\t\telse:\n",
        "\n",
        "\t\t\t\t# Traversing through Queue until it\n",
        "\t\t\t\t# finds the next smaller priority node\n",
        "\t\t\t\ttemp = self.front\n",
        "\n",
        "\t\t\t\twhile temp.next:\n",
        "\t\t\t\t\t# If same priority node found then current\n",
        "\t\t\t\t\t# node will come after previous node\n",
        "\t\t\t\t\tif priority <= temp.next.priority:\n",
        "\t\t\t\t\t\tbreak\n",
        "\n",
        "\t\t\t\t\ttemp = temp.next\n",
        "\n",
        "\t\t\t\tnewNode = PriorityQueueNode(value, priority)\n",
        "\t\t\t\tnewNode.next = temp.next\n",
        "\t\t\t\ttemp.next = newNode\n",
        "\n",
        "\t\t\t\t# Returning 1 for successful execution\n",
        "\t\t\t\treturn 1\n",
        "\n",
        "\t# Method to remove high priority item\n",
        "\t# from the Priority Queue\n",
        "\tdef pop(self):\n",
        "\n",
        "\t\t# Condition check for checking\n",
        "\t\t# Priority Queue is empty or not\n",
        "\t\tif self.isEmpty() == True:\n",
        "\t\t\treturn\n",
        "\t\telse:\n",
        "\t\t\t# Removing high priority node from\n",
        "\t\t\t# Priority Queue, and updating front\n",
        "\t\t\t# with next node\n",
        "\t\t\tself.front = self.front.next\n",
        "\t\t\treturn 1\n",
        "\n",
        "\t# Method to return high priority node\n",
        "\t# value Not removing it\n",
        "\tdef peek(self):\n",
        "\t\t# Condition check for checking Priority\n",
        "\t\t# Queue is empty or not\n",
        "\t\tif self.isEmpty() == True:\n",
        "\t\t\treturn\n",
        "\t\telse:\n",
        "\t\t\treturn self.front.data\n",
        "\n",
        "\t# Method to Traverse through Priority\n",
        "\t# Queue\n",
        "\tdef traverse(self):\n",
        "\t\t# Condition check for checking Priority\n",
        "\t\t# Queue is empty or not\n",
        "\t\tif self.isEmpty() == True:\n",
        "\t\t\treturn \"Queue is Empty!\"\n",
        "\t\telse:\n",
        "\t\t\ttemp = self.front\n",
        "\t\t\twhile temp:\n",
        "\t\t\t\tprint(temp.data, end=\" \")\n",
        "\t\t\t\ttemp = temp.next\n"
      ]
    },
    {
      "cell_type": "markdown",
      "metadata": {
        "id": "QH482z4_4OC0"
      },
      "source": [
        "#### 1. Create a Queue\n",
        "\n",
        "- Each element should contain your name and your other classmates\n",
        "- There should be at least 5 elements in the queue\n",
        "- Put yourself at the end of the queue\n",
        "- Print all elements in the queue"
      ]
    },
    {
      "cell_type": "code",
      "source": [
        "# Create a new instance of the Queue class by calling the Queue() function\n",
        "names = Queue()"
      ],
      "metadata": {
        "id": "0G1HOiDmj6RE"
      },
      "execution_count": 63,
      "outputs": []
    },
    {
      "cell_type": "code",
      "source": [
        "# Enqueue or add each element (each of the names) into the names queue by using the enqueue function\n",
        "names.enqueue(\"RB\")     # The front of the queue\n",
        "names.enqueue(\"Rov\")\n",
        "names.enqueue(\"Soni\")\n",
        "names.enqueue(\"Francis\")\n",
        "names.enqueue(\"Christian\")\n",
        "names.enqueue(\"Jannah\")\n",
        "names.enqueue(\"Nana\")\n",
        "names.enqueue(\"Red\")    # The rear of the queue"
      ],
      "metadata": {
        "id": "sIpWGdGfkCk7"
      },
      "execution_count": 64,
      "outputs": []
    },
    {
      "cell_type": "code",
      "source": [
        "# Print the output (all of the names) from the names queue by using the display() function\n",
        "names.display()"
      ],
      "metadata": {
        "colab": {
          "base_uri": "https://localhost:8080/"
        },
        "id": "imyRu-r9mbEi",
        "outputId": "94b8e69f-0255-45ab-dc38-76bed0c394cb"
      },
      "execution_count": 65,
      "outputs": [
        {
          "output_type": "stream",
          "name": "stdout",
          "text": [
            "['RB', 'Rov', 'Soni', 'Francis', 'Christian', 'Jannah', 'Nana', 'Red']\n"
          ]
        }
      ]
    },
    {
      "cell_type": "markdown",
      "metadata": {
        "id": "dlR8-mOW4OC1"
      },
      "source": [
        "#### 2. Create a Deque\n",
        "\n",
        "Given the queue below,\n",
        "\n",
        "**Queue:**\n",
        "\n",
        "| Cat | Dog | Rabbit | Bird | Hamster\n",
        "| --- | --- | --- | --- | --- |\n",
        "\n",
        "**dequeue** each element and insert them into a **Deque** in the following order below:\n",
        "\n",
        "**Deque:**\n",
        "\n",
        "| Hamster | Bird | Rabbit | Dog | Cat\n",
        "| --- | --- | --- | --- | --- |\n",
        "\n",
        "**Expected output:**\n",
        "\n",
        "['Hamster','Bird', 'Rabbit', 'Dog', 'Cat']"
      ]
    },
    {
      "cell_type": "code",
      "execution_count": 66,
      "metadata": {
        "id": "I477RzKe4OC1"
      },
      "outputs": [],
      "source": [
        "# Create a new instance of the Queue class by calling the Queue() function\n",
        "animals = Queue()"
      ]
    },
    {
      "cell_type": "code",
      "source": [
        "# Enqueue or add each element (each of the given animals) into the animals queue by using the enqueue() function\n",
        "animals.enqueue(\"Cat\")\n",
        "animals.enqueue(\"Dog\")\n",
        "animals.enqueue(\"Rabbit\")\n",
        "animals.enqueue(\"Bird\")\n",
        "animals.enqueue(\"Hamster\")"
      ],
      "metadata": {
        "id": "F0ym9gVioW_I"
      },
      "execution_count": 67,
      "outputs": []
    },
    {
      "cell_type": "code",
      "source": [
        "# Dequeue or remove each element (each of the given animals) from the animals queue by using the dequeue() function\n",
        "animals.dequeue()  # Dequeues the element \"Cat\"\n",
        "animals.dequeue()  # Dequeues the element \"Dog\"\n",
        "animals.dequeue()  # Dequeues the element \"Rabbit\"\n",
        "animals.dequeue()  # Dequeues the element \"Bird\"\n",
        "animals.dequeue()  # Dequeues the element \"Hamster\""
      ],
      "metadata": {
        "colab": {
          "base_uri": "https://localhost:8080/",
          "height": 36
        },
        "id": "Mkqlf3kNjHYD",
        "outputId": "6af78145-5f5f-4584-afd0-f858076d5145"
      },
      "execution_count": 68,
      "outputs": [
        {
          "output_type": "execute_result",
          "data": {
            "text/plain": [
              "'Hamster'"
            ],
            "application/vnd.google.colaboratory.intrinsic+json": {
              "type": "string"
            }
          },
          "metadata": {},
          "execution_count": 68
        }
      ]
    },
    {
      "cell_type": "code",
      "source": [
        "# Create a new instance of the Deque class by calling the Deque() function\n",
        "sortedAnimals = Deque()"
      ],
      "metadata": {
        "id": "kOzCqVSFhjfs"
      },
      "execution_count": 69,
      "outputs": []
    },
    {
      "cell_type": "code",
      "source": [
        "# Insert the dequeued elements from the animals queue into the sortedAnimals deque\n",
        "# by using the addFront() and addRear() functions\n",
        "sortedAnimals.addFront(\"Hamster\")\n",
        "sortedAnimals.addRear(\"Bird\")\n",
        "sortedAnimals.addRear(\"Rabbit\")\n",
        "sortedAnimals.addRear(\"Dog\")\n",
        "sortedAnimals.addRear(\"Cat\")"
      ],
      "metadata": {
        "id": "oyfnT9hTomU-"
      },
      "execution_count": 70,
      "outputs": []
    },
    {
      "cell_type": "code",
      "source": [
        "# Print the output (the sorted deque of animals) from the sortedAnimals deque\n",
        "print(sortedAnimals.items)"
      ],
      "metadata": {
        "colab": {
          "base_uri": "https://localhost:8080/"
        },
        "id": "R-2KxNQ7rS5-",
        "outputId": "7b626f2f-85ed-48dd-e039-6cbcda393b9d"
      },
      "execution_count": 71,
      "outputs": [
        {
          "output_type": "stream",
          "name": "stdout",
          "text": [
            "['Hamster', 'Bird', 'Rabbit', 'Dog', 'Cat']\n"
          ]
        }
      ]
    },
    {
      "cell_type": "markdown",
      "source": [
        "#### 3. Create a Circular Queue\n",
        "\n",
        "Given the queue below,\n",
        "\n",
        "**Queue:**\n",
        "\n",
        "| I | II | III | IV | V | VI | VII | VIII | IX | X | XI | XII\n",
        "| --- | --- | --- | --- | --- | --- | --- | --- | --- | --- | --- | --- |\n",
        "\n",
        "**dequeue** each element and insert them into a **Circular Deque** in the following order below:\n",
        "\n",
        "**Circular Queue:**\n",
        "\n",
        "<img src=\"clock.jpg\"/>\n",
        "\n",
        "**Expected output:**\n",
        "\n",
        "I II III IV V VI VII VIII IX X XI XII"
      ],
      "metadata": {
        "id": "cdvA1nP64OC1"
      }
    },
    {
      "cell_type": "code",
      "execution_count": 75,
      "metadata": {
        "id": "T2ULid7F4OC1"
      },
      "outputs": [],
      "source": [
        "# Create a new instance of the Queue class by calling the Queue() function\n",
        "romanNumerals = Queue()"
      ]
    },
    {
      "cell_type": "code",
      "source": [
        "# Enqueue or add each element (each of the given roman numerals) into the romanNumerals queue\n",
        "# by using the enqueue() function\n",
        "romanNumerals.enqueue(\"I\")     # The front of the queue\n",
        "romanNumerals.enqueue(\"II\")\n",
        "romanNumerals.enqueue(\"III\")\n",
        "romanNumerals.enqueue(\"IV\")\n",
        "romanNumerals.enqueue(\"V\")\n",
        "romanNumerals.enqueue(\"VI\")\n",
        "romanNumerals.enqueue(\"VII\")\n",
        "romanNumerals.enqueue(\"VIII\")\n",
        "romanNumerals.enqueue(\"IX\")\n",
        "romanNumerals.enqueue(\"X\")\n",
        "romanNumerals.enqueue(\"XI\")\n",
        "romanNumerals.enqueue(\"XII\")    # The rear of the queue"
      ],
      "metadata": {
        "id": "nbXK21EgnC0y"
      },
      "execution_count": 76,
      "outputs": []
    },
    {
      "cell_type": "code",
      "source": [
        "# Dequeue or remove each element (each of the roman numerals) from the romanNumerals queue by using the dequeue() function\n",
        "romanNumerals.dequeue()  # Dequeues the element \"I\"\n",
        "romanNumerals.dequeue()  # Dequeues the element \"II\"\n",
        "romanNumerals.dequeue()  # Dequeues the element \"III\"\n",
        "romanNumerals.dequeue()  # Dequeues the element \"IV\"\n",
        "romanNumerals.dequeue()  # Dequeues the element \"V\"\n",
        "romanNumerals.dequeue()  # Dequeues the element \"VI\"\n",
        "romanNumerals.dequeue()  # Dequeues the element \"VII\"\n",
        "romanNumerals.dequeue()  # Dequeues the element \"VIII\"\n",
        "romanNumerals.dequeue()  # Dequeues the element \"IX\"\n",
        "romanNumerals.dequeue()  # Dequeues the element \"X\"\n",
        "romanNumerals.dequeue()  # Dequeues the element \"XI\"\n",
        "romanNumerals.dequeue()  # Dequeues the element \"XII\""
      ],
      "metadata": {
        "colab": {
          "base_uri": "https://localhost:8080/",
          "height": 36
        },
        "id": "6Gdf3IsXnekC",
        "outputId": "b9070d47-be2a-4bec-c366-54b170930d14"
      },
      "execution_count": 77,
      "outputs": [
        {
          "output_type": "execute_result",
          "data": {
            "text/plain": [
              "'XII'"
            ],
            "application/vnd.google.colaboratory.intrinsic+json": {
              "type": "string"
            }
          },
          "metadata": {},
          "execution_count": 77
        }
      ]
    },
    {
      "cell_type": "code",
      "source": [
        "# Create a new instance of the CircularQueue class by calling the CircularQueue() function\n",
        "# and initialize the number of its elements\n",
        "clockCircularQueue = CircularQueue(12)"
      ],
      "metadata": {
        "id": "2iZcxvoon7GF"
      },
      "execution_count": 78,
      "outputs": []
    },
    {
      "cell_type": "code",
      "source": [
        "# Insert the dequeued elements from the romanNumerals queue into the clockCircularQueue by using the enqueue() function\n",
        "clockCircularQueue.enqueue(\"I\")     # The front of the circular queue\n",
        "clockCircularQueue.enqueue(\"II\")\n",
        "clockCircularQueue.enqueue(\"III\")\n",
        "clockCircularQueue.enqueue(\"IV\")\n",
        "clockCircularQueue.enqueue(\"V\")\n",
        "clockCircularQueue.enqueue(\"VI\")\n",
        "clockCircularQueue.enqueue(\"VII\")\n",
        "clockCircularQueue.enqueue(\"VIII\")\n",
        "clockCircularQueue.enqueue(\"IX\")\n",
        "clockCircularQueue.enqueue(\"X\")\n",
        "clockCircularQueue.enqueue(\"XI\")\n",
        "clockCircularQueue.enqueue(\"XII\")   # The rear of the circular queue"
      ],
      "metadata": {
        "id": "13vt5iy4oAGD"
      },
      "execution_count": 79,
      "outputs": []
    },
    {
      "cell_type": "code",
      "source": [
        "# Print the output (all of the inserted roman numerals) from the clockCircularQueue\n",
        "clockCircularQueue.printCQueue()"
      ],
      "metadata": {
        "colab": {
          "base_uri": "https://localhost:8080/"
        },
        "id": "cLQA2Zz3oj0S",
        "outputId": "444a9748-fba8-43e5-a840-4b69308d6401"
      },
      "execution_count": 80,
      "outputs": [
        {
          "output_type": "stream",
          "name": "stdout",
          "text": [
            "I II III IV V VI VII VIII IX X XI XII \n"
          ]
        }
      ]
    },
    {
      "cell_type": "markdown",
      "metadata": {
        "id": "D70cqkeD4OC1"
      },
      "source": [
        "#### 4. Create a Priority Queue\n",
        "\n",
        "Given the queue below,\n",
        "\n",
        "**Queue:**\n",
        "\n",
        "| Cat | Dog | Rabbit | Bird | Hamster\n",
        "| --- | --- | --- | --- | --- |\n",
        "\n",
        "\n",
        "**dequeue** each element and insert them into a **Priority Queue** with the following priority values\n",
        "\n",
        "**Priority Queue:**\n",
        "\n",
        "| Element | Priority |\n",
        "| --- | --- |\n",
        "| Hamster |  0 |\n",
        "| Bird |  1 |\n",
        "| Rabbit |  2 |\n",
        "| Dog |  3 |\n",
        "| Cat |  4 |\n",
        "\n",
        "**Expected output:**\n",
        "\n",
        "Hamster Bird Rabbit Dog Cat"
      ]
    },
    {
      "cell_type": "code",
      "execution_count": 88,
      "metadata": {
        "id": "XYEehw2Y4OC1"
      },
      "outputs": [],
      "source": [
        "# Create a new instance of the Queue class by calling the Queue() function\n",
        "animalsQueue = Queue()"
      ]
    },
    {
      "cell_type": "code",
      "source": [
        "# Enqueue or add each element (each of the given animals) into the animalsQueue by using the enqueue() function\n",
        "animalsQueue.enqueue(\"Cat\")\n",
        "animalsQueue.enqueue(\"Dog\")\n",
        "animalsQueue.enqueue(\"Rabbit\")\n",
        "animalsQueue.enqueue(\"Bird\")\n",
        "animalsQueue.enqueue(\"Hamster\")"
      ],
      "metadata": {
        "id": "afshrSyso3m7"
      },
      "execution_count": 89,
      "outputs": []
    },
    {
      "cell_type": "code",
      "source": [
        "# Dequeue or remove each element (each of the given animals) from the animalsQueue by using the dequeue() function\n",
        "animalsQueue.dequeue()  # Dequeues the element \"Cat\"\n",
        "animalsQueue.dequeue()  # Dequeues the element \"Dog\"\n",
        "animalsQueue.dequeue()  # Dequeues the element \"Rabbit\"\n",
        "animalsQueue.dequeue()  # Dequeues the element \"Bird\"\n",
        "animalsQueue.dequeue()  # Dequeues the element \"Hamster\""
      ],
      "metadata": {
        "colab": {
          "base_uri": "https://localhost:8080/",
          "height": 36
        },
        "id": "qDVQbSJfo63M",
        "outputId": "061f7f82-d665-4076-962a-37df529a829f"
      },
      "execution_count": 90,
      "outputs": [
        {
          "output_type": "execute_result",
          "data": {
            "text/plain": [
              "'Hamster'"
            ],
            "application/vnd.google.colaboratory.intrinsic+json": {
              "type": "string"
            }
          },
          "metadata": {},
          "execution_count": 90
        }
      ]
    },
    {
      "cell_type": "code",
      "source": [
        "# Create a new instance of the PriorityQueue class by calling the PriorityQueue() function\n",
        "animalsPriorityQueue = PriorityQueue()"
      ],
      "metadata": {
        "id": "-7bST-WbpFHx"
      },
      "execution_count": 91,
      "outputs": []
    },
    {
      "cell_type": "code",
      "source": [
        "# Push or insert new elements into the animalsPriorityQueue with their respective priority values\n",
        "# by using the push() function\n",
        "animalsPriorityQueue.push(\"Hamster\", 0)     # The element with the highest priority\n",
        "animalsPriorityQueue.push(\"Bird\", 1)\n",
        "animalsPriorityQueue.push(\"Rabbit\", 2)\n",
        "animalsPriorityQueue.push(\"Dog\", 3)\n",
        "animalsPriorityQueue.push(\"Cat\", 4)         # The element with the lowest priority"
      ],
      "metadata": {
        "colab": {
          "base_uri": "https://localhost:8080/"
        },
        "id": "vRrjTBYKpITT",
        "outputId": "1c266d19-26f0-4ba0-d450-2ff659ebb124"
      },
      "execution_count": 92,
      "outputs": [
        {
          "output_type": "execute_result",
          "data": {
            "text/plain": [
              "1"
            ]
          },
          "metadata": {},
          "execution_count": 92
        }
      ]
    },
    {
      "cell_type": "code",
      "source": [
        "# Traverse through the animalsPriorityQueue to display its output (the animals sorted by their priority queue values)\n",
        "animalsPriorityQueue.traverse()"
      ],
      "metadata": {
        "colab": {
          "base_uri": "https://localhost:8080/"
        },
        "id": "gVWJfHlopTxf",
        "outputId": "1a35cd50-e9d8-49bb-8d6a-802514516fe4"
      },
      "execution_count": 93,
      "outputs": [
        {
          "output_type": "stream",
          "name": "stdout",
          "text": [
            "Hamster Bird Rabbit Dog Cat "
          ]
        }
      ]
    },
    {
      "cell_type": "markdown",
      "metadata": {
        "id": "rkD5jkg04OC1"
      },
      "source": [
        "#### 5. Create a Sorted Circular Queue\n",
        "\n",
        "Given the queue below,\n",
        "\n",
        "**Queue:**\n",
        "\n",
        "| 1 | 5 | 3 | 2 | 7 | 8 | 10 | 11 | 6 | 4 | 12 | 9\n",
        "| --- | --- | --- | --- | --- | --- | --- | --- | --- | --- | --- | --- |\n",
        "\n",
        "\n",
        "**dequeue** each element and insert them into a **Circular Queue** in the following order below:\n",
        "\n",
        "**Circular Queue:**\n",
        "\n",
        "<img src=\"clock1.png\"/>\n",
        "\n",
        "**Expected output:**\n",
        "\n",
        "1 2 3 4 5 6 7 8 9 10 11 12"
      ]
    },
    {
      "cell_type": "code",
      "execution_count": 94,
      "metadata": {
        "id": "Dnt_oNyr4OC1"
      },
      "outputs": [],
      "source": [
        "# Create a new instance of the Queue class by calling the Queue() function\n",
        "unsortedNumbers = Queue()"
      ]
    },
    {
      "cell_type": "code",
      "source": [
        "# Enqueue or add each element (each of the given unsorted numbers) into the unsortedNumbers queue\n",
        "# by using the enqueue() function\n",
        "unsortedNumbers.enqueue(1)      # The front of the queue\n",
        "unsortedNumbers.enqueue(5)\n",
        "unsortedNumbers.enqueue(3)\n",
        "unsortedNumbers.enqueue(2)\n",
        "unsortedNumbers.enqueue(7)\n",
        "unsortedNumbers.enqueue(8)\n",
        "unsortedNumbers.enqueue(10)\n",
        "unsortedNumbers.enqueue(11)\n",
        "unsortedNumbers.enqueue(6)\n",
        "unsortedNumbers.enqueue(4)\n",
        "unsortedNumbers.enqueue(12)\n",
        "unsortedNumbers.enqueue(9)      # The rear of the queue"
      ],
      "metadata": {
        "id": "cAPKUmEwpwfy"
      },
      "execution_count": 95,
      "outputs": []
    },
    {
      "cell_type": "code",
      "source": [
        "# Dequeue or remove each element (each of the unsorted numbers) in the unsortedNumbers queue by using the dequeue function\n",
        "unsortedNumbers.dequeue()  # Dequeues the element 1\n",
        "unsortedNumbers.dequeue()  # Dequeues the element 5\n",
        "unsortedNumbers.dequeue()  # Dequeues the element 3\n",
        "unsortedNumbers.dequeue()  # Dequeues the element 2\n",
        "unsortedNumbers.dequeue()  # Dequeues the element 7\n",
        "unsortedNumbers.dequeue()  # Dequeues the element 8\n",
        "unsortedNumbers.dequeue()  # Dequeues the element 10\n",
        "unsortedNumbers.dequeue()  # Dequeues the element 11\n",
        "unsortedNumbers.dequeue()  # Dequeues the element 6\n",
        "unsortedNumbers.dequeue()  # Dequeues the element 4\n",
        "unsortedNumbers.dequeue()  # Dequeues the element 12\n",
        "unsortedNumbers.dequeue()  # Dequeues the element 9"
      ],
      "metadata": {
        "colab": {
          "base_uri": "https://localhost:8080/"
        },
        "id": "Vwj3O9yLqEbJ",
        "outputId": "7e770217-7a93-4bec-d49f-0ecc2b46543e"
      },
      "execution_count": 96,
      "outputs": [
        {
          "output_type": "execute_result",
          "data": {
            "text/plain": [
              "9"
            ]
          },
          "metadata": {},
          "execution_count": 96
        }
      ]
    },
    {
      "cell_type": "code",
      "source": [
        "# Create a new instance of the CircularQueue class by calling the CircularQueue() function\n",
        "# and initialize the number of its elements\n",
        "sortedCircularQueue = CircularQueue(12)"
      ],
      "metadata": {
        "id": "gLQkFnx2qXfq"
      },
      "execution_count": 97,
      "outputs": []
    },
    {
      "cell_type": "code",
      "source": [
        "# Insert the dequeued elements from the unsortedNumbers queue into the sortedCircularQueue\n",
        "# in ascending order by using the enqueue() function\n",
        "sortedCircularQueue.enqueue(1)        # The front of the circular queue\n",
        "sortedCircularQueue.enqueue(2)\n",
        "sortedCircularQueue.enqueue(3)\n",
        "sortedCircularQueue.enqueue(4)\n",
        "sortedCircularQueue.enqueue(5)\n",
        "sortedCircularQueue.enqueue(6)\n",
        "sortedCircularQueue.enqueue(7)\n",
        "sortedCircularQueue.enqueue(8)\n",
        "sortedCircularQueue.enqueue(9)\n",
        "sortedCircularQueue.enqueue(10)\n",
        "sortedCircularQueue.enqueue(11)\n",
        "sortedCircularQueue.enqueue(12)       # The rear of the circular queue"
      ],
      "metadata": {
        "id": "-KZ_6HodqbCT"
      },
      "execution_count": 98,
      "outputs": []
    },
    {
      "cell_type": "code",
      "source": [
        "# Print the output (all of the inserted and sorted numbers) from the sortedCircularQueue\n",
        "sortedCircularQueue.printCQueue()"
      ],
      "metadata": {
        "colab": {
          "base_uri": "https://localhost:8080/"
        },
        "id": "_6f_MM6_q0NS",
        "outputId": "664b2eb2-ee3b-4c06-d115-46880f363f02"
      },
      "execution_count": 99,
      "outputs": [
        {
          "output_type": "stream",
          "name": "stdout",
          "text": [
            "1 2 3 4 5 6 7 8 9 10 11 12 \n"
          ]
        }
      ]
    }
  ],
  "metadata": {
    "kernelspec": {
      "display_name": "Python 3",
      "language": "python",
      "name": "python3"
    },
    "language_info": {
      "codemirror_mode": {
        "name": "ipython",
        "version": 3
      },
      "file_extension": ".py",
      "mimetype": "text/x-python",
      "name": "python",
      "nbconvert_exporter": "python",
      "pygments_lexer": "ipython3",
      "version": "3.9.13"
    },
    "orig_nbformat": 4,
    "colab": {
      "provenance": [],
      "include_colab_link": true
    }
  },
  "nbformat": 4,
  "nbformat_minor": 0
}