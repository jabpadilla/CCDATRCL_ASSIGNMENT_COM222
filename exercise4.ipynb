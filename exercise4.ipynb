{
  "cells": [
    {
      "cell_type": "markdown",
      "metadata": {
        "id": "view-in-github",
        "colab_type": "text"
      },
      "source": [
        "<a href=\"https://colab.research.google.com/github/jabpadilla/CCDATRCL_ASSIGNMENT_COM222/blob/main/exercise4.ipynb\" target=\"_parent\"><img src=\"https://colab.research.google.com/assets/colab-badge.svg\" alt=\"Open In Colab\"/></a>"
      ]
    },
    {
      "cell_type": "markdown",
      "metadata": {
        "id": "fCO3VeNzvGDc"
      },
      "source": [
        "# Exercise 4"
      ]
    },
    {
      "cell_type": "markdown",
      "metadata": {
        "id": "UCFGr2qPKONg"
      },
      "source": [
        "#### Pre-defined sorting algorithms"
      ]
    },
    {
      "cell_type": "code",
      "execution_count": 1,
      "metadata": {
        "id": "dXWXOLWtKONg"
      },
      "outputs": [],
      "source": [
        "def mergeSort(array):\n",
        "    if len(array) > 1:\n",
        "\n",
        "        #  r is the point where the array is divided into two subarrays\n",
        "        r = len(array)//2\n",
        "        L = array[:r]\n",
        "        M = array[r:]\n",
        "\n",
        "        # Sort the two halves\n",
        "        mergeSort(L)\n",
        "        mergeSort(M)\n",
        "\n",
        "        i = j = k = 0\n",
        "\n",
        "        # Until we reach either end of either L or M, pick larger among\n",
        "        # elements L and M and place them in the correct position at A[p..r]\n",
        "        while i < len(L) and j < len(M):\n",
        "            if L[i] < M[j]:\n",
        "                array[k] = L[i]\n",
        "                i += 1\n",
        "            else:\n",
        "                array[k] = M[j]\n",
        "                j += 1\n",
        "            k += 1\n",
        "\n",
        "        # When we run out of elements in either L or M,\n",
        "        # pick up the remaining elements and put in A[p..r]\n",
        "        while i < len(L):\n",
        "            array[k] = L[i]\n",
        "            i += 1\n",
        "            k += 1\n",
        "\n",
        "        while j < len(M):\n",
        "            array[k] = M[j]\n",
        "            j += 1\n",
        "            k += 1\n",
        "\n",
        "# Print the array\n",
        "def printList(array):\n",
        "    for i in range(len(array)):\n",
        "        print(array[i], end=\" \")\n",
        "    print()"
      ]
    },
    {
      "cell_type": "code",
      "execution_count": 2,
      "metadata": {
        "id": "OB-JMVxvKONi"
      },
      "outputs": [],
      "source": [
        "def countingSort(array):\n",
        "    size = len(array)\n",
        "    output = [0] * size\n",
        "\n",
        "    # Initialize count array\n",
        "    count = [0] * 10\n",
        "\n",
        "    # Store the count of each elements in count array\n",
        "    for i in range(0, size):\n",
        "        count[array[i]] += 1\n",
        "\n",
        "    # Store the cummulative count\n",
        "    for i in range(1, 10):\n",
        "        count[i] += count[i - 1]\n",
        "\n",
        "    # Find the index of each element of the original array in count array\n",
        "    # place the elements in output array\n",
        "    i = size - 1\n",
        "    while i >= 0:\n",
        "        output[count[array[i]] - 1] = array[i]\n",
        "        count[array[i]] -= 1\n",
        "        i -= 1\n",
        "\n",
        "    # Copy the sorted elements into original array\n",
        "    for i in range(0, size):\n",
        "        array[i] = output[i]"
      ]
    },
    {
      "cell_type": "code",
      "execution_count": 3,
      "metadata": {
        "id": "VXaukk4_KONj"
      },
      "outputs": [],
      "source": [
        "def insertionSort(array):\n",
        "\n",
        "    for step in range(1, len(array)):\n",
        "        key = array[step]\n",
        "        j = step - 1\n",
        "\n",
        "        # Compare key with each element on the left of it until an element smaller than it is found\n",
        "        # For descending order, change key<array[j] to key>array[j].\n",
        "        while j >= 0 and key < array[j]:\n",
        "            array[j + 1] = array[j]\n",
        "            j = j - 1\n",
        "\n",
        "        # Place key at after the element just smaller than it.\n",
        "        array[j + 1] = key"
      ]
    },
    {
      "cell_type": "code",
      "execution_count": 4,
      "metadata": {
        "id": "b4yWHH1nKONj"
      },
      "outputs": [],
      "source": [
        "# Bubble sort in Python\n",
        "def bubbleSort(array):\n",
        "\n",
        "  # loop to access each array element\n",
        "  for i in range(len(array)):\n",
        "\n",
        "    # loop to compare array elements\n",
        "    for j in range(0, len(array) - i - 1):\n",
        "\n",
        "      # compare two adjacent elements\n",
        "      # change > to < to sort in descending order\n",
        "      if array[j] > array[j + 1]:\n",
        "\n",
        "        # swapping elements if elements\n",
        "        # are not in the intended order\n",
        "        temp = array[j]\n",
        "        array[j] = array[j+1]\n",
        "        array[j+1] = temp"
      ]
    },
    {
      "cell_type": "markdown",
      "metadata": {
        "id": "6j9PZVsyvGDe"
      },
      "source": [
        "#### 1. Sort your **student number** in **ascending order**\n",
        "\n",
        "Example:\n",
        "\n",
        "**Input: 2022123456**\n",
        "\n",
        "**Output: 0122223456**"
      ]
    },
    {
      "cell_type": "code",
      "execution_count": 15,
      "metadata": {
        "id": "UuNMRCm3vGDe",
        "colab": {
          "base_uri": "https://localhost:8080/"
        },
        "outputId": "09a14141-718a-483a-c95a-0117e570fcec"
      },
      "outputs": [
        {
          "output_type": "stream",
          "name": "stdout",
          "text": [
            "Sorted Student Number in Ascending Order:\n",
            "[0, 0, 1, 2, 2, 2, 3, 4, 5, 7]\n"
          ]
        }
      ],
      "source": [
        "# Declare a list named student_number and initialize its elements (each of the number of the student number)\n",
        "student_number = [2,0,2,2,1,0,7,5,3,4]\n",
        "\n",
        "# Use the insertionSort() function to sort the numbers in the list\n",
        "insertionSort(student_number)\n",
        "\n",
        "# Print the output (the sorted student number in ascending order)\n",
        "print('Sorted Student Number in Ascending Order:')\n",
        "print(student_number)"
      ]
    },
    {
      "cell_type": "markdown",
      "metadata": {
        "id": "felukBjnvGDf"
      },
      "source": [
        "#### 2. Sort the **dates** in **ascending order**.\n",
        "\n",
        "dates = [\"12-25-2023\", birthday, \"01-01-2023\"]\n",
        "\n",
        "Enter your birthday in the birthday variable."
      ]
    },
    {
      "cell_type": "code",
      "source": [
        "# Your birthday should be in mm-dd-yyyy\n",
        "birthday = \"03-21-2003\"\n",
        "\n",
        "dates = [\"12-25-2023\", birthday, \"01-01-2023\"]\n",
        "\n",
        "# Import the datetime class from datetime module to create datetime objects\n",
        "from datetime import datetime\n",
        "\n",
        "# Create a new list called dates to store the converted datetime objects\n",
        "# strptime is used to parse and format each date string in \"MM-DD-YYYY\" and to convert it into a datetime object\n",
        "# A for loop to iterate each date in the dates list\n",
        "dates = [datetime.strptime(date, \"%m-%d-%Y\") for date in dates]\n",
        "\n",
        "# Use the insertionSort() function to sort the dates in the array\n",
        "insertionSort(dates)\n",
        "\n",
        "# Create a new list called sorted_dates to store the formatted date strings\n",
        "# strftime is used to format a datetime object as a string in \"MM-DD-YYYY\"\n",
        "# A for loop to iterate each date in the dates list to format each date as a string in the set format\n",
        "sorted_dates = [date.strftime(\"%m-%d-%Y\") for date in dates]\n",
        "\n",
        "# Print the output (the sorted dates)\n",
        "print(\"Sorted Dates in Ascending Order:\")\n",
        "for date in sorted_dates:   # A for loop to iterate and print each date in the sorted_dates list\n",
        "    print(date)"
      ],
      "metadata": {
        "colab": {
          "base_uri": "https://localhost:8080/"
        },
        "id": "kuG5A2q6CF2J",
        "outputId": "2927e812-9db8-4faf-a836-c4636d448e00"
      },
      "execution_count": 6,
      "outputs": [
        {
          "output_type": "stream",
          "name": "stdout",
          "text": [
            "Sorted Dates in Ascending Order:\n",
            "03-21-2003\n",
            "01-01-2023\n",
            "12-25-2023\n"
          ]
        }
      ]
    },
    {
      "cell_type": "markdown",
      "metadata": {
        "id": "IFDPeGZxvGDg"
      },
      "source": [
        "#### 3. Count the **total number of swaps** to sort the list below using **Bubble Sort**\n",
        "\n",
        "|3|2|5|1|4|\n",
        "|---|----|---|---|---|"
      ]
    },
    {
      "cell_type": "code",
      "source": [
        "# A modified bubbleSort() function that counts the total number of swaps made to sort a list\n",
        "def bubbleSortWithSwapCount(array):\n",
        "    totalSwaps = 0  # Declare a variable named totalSwaps to store the total number of the swaps made\n",
        "                    # Initialize it to 0\n",
        "\n",
        "    # Loop to access each array element\n",
        "    for i in range(len(array)):\n",
        "\n",
        "        # Loop to compare array elements\n",
        "        for j in range(0, len(array) - i - 1):\n",
        "\n",
        "            # Compare two adjacent elements\n",
        "            # Change > to < to sort in descending order\n",
        "            if array[j] > array[j + 1]:\n",
        "\n",
        "                # Swapping elements if elements\n",
        "                # are not in the intended order\n",
        "                temp = array[j]\n",
        "                array[j] = array[j + 1]\n",
        "                array[j + 1] = temp\n",
        "\n",
        "                totalSwaps += 1     # Increment the swap count as the sort function swaps the elements\n",
        "\n",
        "    return totalSwaps   # Return the total number of swaps made to sort the list\n",
        "\n",
        "\n",
        "\n",
        "# Create a list named numbers and initialize its elements (the given number set)\n",
        "numbers = [3, 2, 5, 1, 4]\n",
        "\n",
        "# Create a variable named totalswaps to store the total number of swaps returned by the bubbleSortWithCount() function\n",
        "# Use the bubbleSortWithCount() function to sort the array named numbers\n",
        "totalswaps = bubbleSortWithSwapCount(numbers)\n",
        "\n",
        "# Print the output (the total number of swaps made to sort the list)\n",
        "print(totalswaps)"
      ],
      "metadata": {
        "colab": {
          "base_uri": "https://localhost:8080/"
        },
        "id": "WiYWm-zaCQ97",
        "outputId": "b3da8ce4-1932-42b8-d99e-c9ae93455c22"
      },
      "execution_count": 16,
      "outputs": [
        {
          "output_type": "stream",
          "name": "stdout",
          "text": [
            "5\n"
          ]
        }
      ]
    },
    {
      "cell_type": "markdown",
      "metadata": {
        "id": "iO2UusQWvGDi"
      },
      "source": [
        "#### 4. Count the **total number of steps** to sort the list below using **Insertion Sort**\n",
        "\n",
        "\n",
        "|6|2|5|7|4|1|8|9|3|\n",
        "|---|---|---|---|---|---|---|---|---|"
      ]
    },
    {
      "cell_type": "code",
      "execution_count": 17,
      "metadata": {
        "id": "vq1PYEjmvGDi",
        "outputId": "71d5cb94-c71e-4039-b877-95cac3f7e662",
        "colab": {
          "base_uri": "https://localhost:8080/"
        }
      },
      "outputs": [
        {
          "output_type": "stream",
          "name": "stdout",
          "text": [
            "24\n"
          ]
        }
      ],
      "source": [
        "# A modified insertionSort() function that counts the total number of steps made to sort a list\n",
        "def insertionSortWithStepCount(array):\n",
        "    totalSteps = 0  # Declare a variable named totalSteps to store the total number of the steps made\n",
        "                    # Initialize it to 0\n",
        "\n",
        "    for step in range(1, len(array)):\n",
        "        key = array[step]\n",
        "        j = step - 1\n",
        "\n",
        "        # Compare key with each element on the left of it until an element smaller than it is found\n",
        "        # For descending order, change key < array[j] to key > array[j].\n",
        "        while j >= 0 and key < array[j]:\n",
        "            array[j + 1] = array[j]\n",
        "            j = j - 1\n",
        "            totalSteps += 1  # Increment the totalSteps counter for the comparison step\n",
        "\n",
        "        # Place key at after the element just smaller than it.\n",
        "        array[j + 1] = key\n",
        "        totalSteps += 1  # Increment the totalSteps counter for the insertion step\n",
        "\n",
        "    return totalSteps   # Return the total number of steps made to sort the list\n",
        "\n",
        "\n",
        "\n",
        "# Create a list named numbers and initialize its elements (the given number set)\n",
        "numbers = [6, 2, 5, 7, 4, 1, 8, 9, 3]\n",
        "\n",
        "# Use the insertionSortWithStepCount() function to sort the array named numbers\n",
        "# Store the total number of steps returned by the function into the totalSteps variable\n",
        "totalSteps = insertionSortWithStepCount(numbers)\n",
        "\n",
        "# Print the output (the total number of steps made to sort the list)\n",
        "print(totalSteps)"
      ]
    },
    {
      "cell_type": "markdown",
      "metadata": {
        "id": "jpfNCCdbvGDj"
      },
      "source": [
        "#### 5. Given the list below:\n",
        "\n",
        "\n",
        "|7|5|4|3|2|5|1|8|\n",
        "|---|---|---|---|---|---|---|---|\n",
        "\n",
        "Using **merge sort** and **counting sort**\n",
        "\n",
        "Determine which sorting algorithm is faster by counting the total number of steps for each algorithm\n"
      ]
    },
    {
      "cell_type": "code",
      "source": [
        "# A modified mergeSort() function that counts the total number of steps made to sort a list\n",
        "def mergeSortWithStepCount(array):\n",
        "    stepCounter = 0   # Declare a variable named stepCounter to store number of the steps made\n",
        "                      # Initialize it to 0\n",
        "\n",
        "    if len(array) > 1:\n",
        "        r = len(array) // 2\n",
        "        L = array[:r]\n",
        "        M = array[r:]\n",
        "\n",
        "        # Increment the stepCounter as the left and right halves are being sorted\n",
        "        stepCounter += mergeSortWithStepCount(L)\n",
        "        stepCounter += mergeSortWithStepCount(M)\n",
        "\n",
        "        i = j = k = 0\n",
        "        while i < len(L) and j < len(M):\n",
        "            if L[i] < M[j]:\n",
        "                array[k] = L[i]\n",
        "                i += 1\n",
        "            else:\n",
        "                array[k] = M[j]\n",
        "                j += 1\n",
        "            k += 1\n",
        "            stepCounter += 1  # Increment the stepcounter for each comparison and merge operation in the elements\n",
        "\n",
        "        while i < len(L):\n",
        "            array[k] = L[i]\n",
        "            i += 1\n",
        "            k += 1\n",
        "            stepCounter += 1    # Increment the stepcounter for each comparison and merge operation in the elements\n",
        "\n",
        "        while j < len(M):\n",
        "            array[k] = M[j]\n",
        "            j += 1\n",
        "            k += 1\n",
        "            stepCounter += 1    # Increment the stepcounter for each comparison and merge operation in the elements\n",
        "\n",
        "    return stepCounter  # Return the total number of steps made to sort the list\n",
        "\n",
        "\n",
        "\n",
        "# Create a list named numbers and initialize its elements (the given number set)\n",
        "numbers = [7, 5, 4, 3, 2, 5, 1, 8]\n",
        "\n",
        "# Use the mergeSortWithStepCount() function to sort the list named numbers\n",
        "# Store the total number of steps returned by the function into the merge_sort_num_steps variable\n",
        "merge_sort_num_steps = mergeSortWithStepCount(numbers)\n",
        "\n",
        "# Print the total number of steps made\n",
        "print(\"Total Number of Steps Made in the Merge Sort:\", merge_sort_num_steps)"
      ],
      "metadata": {
        "colab": {
          "base_uri": "https://localhost:8080/"
        },
        "id": "s_PO7A79DQLP",
        "outputId": "ab5cf375-885a-427b-d953-70ff8cd919de"
      },
      "execution_count": 18,
      "outputs": [
        {
          "output_type": "stream",
          "name": "stdout",
          "text": [
            "Total Number of Steps Made in the Merge Sort: 24\n"
          ]
        }
      ]
    },
    {
      "cell_type": "code",
      "execution_count": 19,
      "metadata": {
        "id": "2YVK17cSvGDj",
        "outputId": "46d4d09d-7eb9-47e6-a6cf-b8996e1e689f",
        "colab": {
          "base_uri": "https://localhost:8080/"
        }
      },
      "outputs": [
        {
          "output_type": "stream",
          "name": "stdout",
          "text": [
            "Total Number of Steps Made in the Counting Sort: 8\n"
          ]
        }
      ],
      "source": [
        "# A modified countingSort() function that counts the total number of steps made to sort a list\n",
        "def countingSortWithStepCount(array):\n",
        "    size = len(array)\n",
        "    output = [0] * size\n",
        "\n",
        "    # Initialize count array\n",
        "    count = [0] * 10\n",
        "\n",
        "    stepCounter = 0  # Declare a variable named stepCounter to store number of the steps made in the sorting process\n",
        "                     # and initialize it to 0\n",
        "\n",
        "    # Store the count of each element in the count array\n",
        "    for i in range(0, size):\n",
        "        count[array[i]] += 1\n",
        "\n",
        "    # Store the cumulative count\n",
        "    for i in range(1, 10):\n",
        "        count[i] += count[i - 1]\n",
        "\n",
        "    # Find the index of each element of the original array in the count array\n",
        "    # Place the elements in the output array\n",
        "    i = size - 1\n",
        "    while i >= 0:\n",
        "        output[count[array[i]] - 1] = array[i]\n",
        "        count[array[i]] -= 1\n",
        "        i -= 1\n",
        "        stepCounter += 1  # Increment the step counter for each iteration\n",
        "\n",
        "    # Copy the sorted elements into the original array\n",
        "    for i in range(0, size):\n",
        "        array[i] = output[i]\n",
        "\n",
        "    return stepCounter  # Return the total number of steps made to sort the list\n",
        "\n",
        "\n",
        "\n",
        "# Create a list named numbers and initialize its elements (the given number set)\n",
        "numbers = [7, 5, 4, 3, 2, 5, 1, 8]\n",
        "\n",
        "# Use the countingSortWithStepCount() function to sort the list named numbers\n",
        "# Store the total number of steps returned by the function into the counting_sort_num_steps variable\n",
        "counting_sort_num_steps = countingSortWithStepCount(numbers)\n",
        "\n",
        "# Print the total number of steps made\n",
        "print(\"Total Number of Steps Made in the Counting Sort:\", counting_sort_num_steps)"
      ]
    },
    {
      "cell_type": "code",
      "source": [
        "# Compare the total number of steps made between the merge_sort_num_steps and counting_sort_num_steps\n",
        "if merge_sort_num_steps < counting_sort_num_steps:\n",
        "    print(\"Merge sort is faster\")\n",
        "else:\n",
        "    print(\"counting sort is faster\")"
      ],
      "metadata": {
        "colab": {
          "base_uri": "https://localhost:8080/"
        },
        "id": "V80ISC-_DQEa",
        "outputId": "8d12d85c-2fdc-4217-d8bc-723202a04665"
      },
      "execution_count": 20,
      "outputs": [
        {
          "output_type": "stream",
          "name": "stdout",
          "text": [
            "counting sort is faster\n"
          ]
        }
      ]
    }
  ],
  "metadata": {
    "colab": {
      "provenance": [],
      "include_colab_link": true
    },
    "kernelspec": {
      "display_name": "Python 3",
      "language": "python",
      "name": "python3"
    },
    "language_info": {
      "codemirror_mode": {
        "name": "ipython",
        "version": 3
      },
      "file_extension": ".py",
      "mimetype": "text/x-python",
      "name": "python",
      "nbconvert_exporter": "python",
      "pygments_lexer": "ipython3",
      "version": "3.11.4"
    },
    "orig_nbformat": 4
  },
  "nbformat": 4,
  "nbformat_minor": 0
}