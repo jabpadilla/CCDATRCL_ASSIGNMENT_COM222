{
  "cells": [
    {
      "cell_type": "markdown",
      "metadata": {
        "id": "h2vFiYhGzZOg"
      },
      "source": [
        "# Exercise 1"
      ]
    },
    {
      "cell_type": "markdown",
      "source": [
        "## Class Initialization"
      ],
      "metadata": {
        "id": "sRm6kPQozcaU"
      }
    },
    {
      "cell_type": "code",
      "execution_count": null,
      "metadata": {
        "id": "b1u4Dt9mzZOi"
      },
      "outputs": [],
      "source": [
        "class Node:\n",
        "    def __init__(self, data):\n",
        "        self.data = data\n",
        "        self.next = None\n",
        "        self.prev = None"
      ]
    },
    {
      "cell_type": "code",
      "execution_count": null,
      "metadata": {
        "id": "tigvHSaHzZOj"
      },
      "outputs": [],
      "source": [
        "class LinkedList:\n",
        "\n",
        "    def __init__(self):\n",
        "        self.head = None\n",
        "\n",
        "    def traverse(self, node):\n",
        "        while node:\n",
        "            print(node.data, end=\" -> \")\n",
        "            node = node.next"
      ]
    },
    {
      "cell_type": "code",
      "execution_count": null,
      "metadata": {
        "id": "LIkQBioVzZOk"
      },
      "outputs": [],
      "source": [
        "class DoublyLinkedList:\n",
        "\n",
        "    def __init__(self):\n",
        "        self.head = None\n",
        "\n",
        "    def traverse(self, node):\n",
        "        while node:\n",
        "            print(node.data, end=\" -> \")\n",
        "            node = node.next"
      ]
    },
    {
      "cell_type": "code",
      "execution_count": null,
      "metadata": {
        "id": "zlxNT5EozZOl"
      },
      "outputs": [],
      "source": [
        "class CircularLinkedList:\n",
        "\n",
        "    def __init__(self):\n",
        "        self.head = None\n",
        "\n",
        "    def traverse(self, node):\n",
        "\n",
        "        head = node\n",
        "\n",
        "        while node:\n",
        "            print(node.data, end=\" -> \")\n",
        "            node = node.next\n",
        "\n",
        "            # Break to prevent infinite loop\n",
        "            if node == head:\n",
        "                break"
      ]
    },
    {
      "cell_type": "markdown",
      "metadata": {
        "id": "O68-Q1-bzZOl"
      },
      "source": [
        "#### 1. Create a Singly Linked list\n",
        "\n",
        "- Each node should contain your name and your seatmates in your row\n",
        "- Create at least 5 nodes\n",
        "- Traverse all nodes"
      ]
    },
    {
      "cell_type": "code",
      "execution_count": 1,
      "metadata": {
        "id": "pTcx_OuPzZOl"
      },
      "outputs": [],
      "source": [
        "# Create a Node class\n",
        "class Node:\n",
        "\n",
        "  def __init__(self, data):\n",
        "    self.data = data\n",
        "    self.next = None"
      ]
    },
    {
      "cell_type": "code",
      "source": [
        "# Create a SinglyLinkedList class\n",
        "class SinglyLinkedList:\n",
        "\n",
        "  def __init__(self):\n",
        "    self.head = None\n",
        "\n",
        "  def traverse(self, node):\n",
        "    while node:\n",
        "      print(node.data, end = \" -> \")\n",
        "      node = node.next"
      ],
      "metadata": {
        "id": "QX8bg50AZYaw"
      },
      "execution_count": 2,
      "outputs": []
    },
    {
      "cell_type": "code",
      "source": [
        "# Create a new instance of the SinglyLinkedList class\n",
        "singly_linked_list = SinglyLinkedList()"
      ],
      "metadata": {
        "id": "V-dMvJFNZgEW"
      },
      "execution_count": 3,
      "outputs": []
    },
    {
      "cell_type": "code",
      "source": [
        "# Create nodes and assign data to each node\n",
        "singly_linked_list.head = Node(\"Soni\")\n",
        "node_b = Node(\"Nana\")\n",
        "node_c = Node(\"Red\")\n",
        "node_d = Node(\"RB\")\n",
        "node_e = Node(\"Christian\")\n",
        "node_f = Node(\"Rov\")\n",
        "node_g = Node(\"Francis\")\n",
        "node_h = Node(\"Jannah\")"
      ],
      "metadata": {
        "id": "rvZWT-LgZkJR"
      },
      "execution_count": 4,
      "outputs": []
    },
    {
      "cell_type": "code",
      "source": [
        "# Connect each node\n",
        "singly_linked_list.head.next = node_b\n",
        "node_b.next = node_c\n",
        "node_c.next = node_d\n",
        "node_d.next = node_e\n",
        "node_e.next = node_f\n",
        "node_f.next = node_g\n",
        "node_g.next = node_h"
      ],
      "metadata": {
        "id": "_riRAH_AZmth"
      },
      "execution_count": 5,
      "outputs": []
    },
    {
      "cell_type": "code",
      "source": [
        "# Traverse all the nodes and display all the elements in the Singly Linked List\n",
        "singly_linked_list.traverse(singly_linked_list.head)"
      ],
      "metadata": {
        "colab": {
          "base_uri": "https://localhost:8080/"
        },
        "id": "vQ03wEQrZqYD",
        "outputId": "79b9f3b8-cc72-4bd4-9216-49b9fc1f3afd"
      },
      "execution_count": 6,
      "outputs": [
        {
          "output_type": "stream",
          "name": "stdout",
          "text": [
            "Soni -> Nana -> Red -> RB -> Christian -> Rov -> Francis -> Jannah -> "
          ]
        }
      ]
    },
    {
      "cell_type": "markdown",
      "metadata": {
        "id": "IFgwbdw_zZOm"
      },
      "source": [
        "#### 2. Create a Doubly Linked list\n",
        "\n",
        "- Each node should contain your name and your seatmates in your row\n",
        "- Create at least 5 nodes\n",
        "- Traverse all nodes"
      ]
    },
    {
      "cell_type": "code",
      "execution_count": 7,
      "metadata": {
        "id": "8kQD2A_QzZOm"
      },
      "outputs": [],
      "source": [
        "# Create a Node class\n",
        "class Node:\n",
        "\n",
        "  def __init__(self, data):\n",
        "    self.data = data\n",
        "    self.next = None\n",
        "    self.prev = None"
      ]
    },
    {
      "cell_type": "code",
      "source": [
        "# Create a DoublyLinkedList class\n",
        "class DoublyLinkedList:\n",
        "  def __init__(self):\n",
        "    self.head = None\n",
        "\n",
        "  def traverse(self, node):\n",
        "    while node:\n",
        "      print(node.data, end = \" -> \")\n",
        "      node = node.next"
      ],
      "metadata": {
        "id": "CTpPwCsJafye"
      },
      "execution_count": 8,
      "outputs": []
    },
    {
      "cell_type": "code",
      "source": [
        "# Create a new instance of the DoublyLinkedList class\n",
        "doubly_linked_list = DoublyLinkedList()"
      ],
      "metadata": {
        "id": "XjLw6iu-aihN"
      },
      "execution_count": 9,
      "outputs": []
    },
    {
      "cell_type": "code",
      "source": [
        "# Create nodes and assign data to each node\n",
        "doubly_linked_list.head = Node(\"Soni\")\n",
        "node_b = Node(\"Nana\")\n",
        "node_c = Node(\"Red\")\n",
        "node_d = Node(\"RB\")\n",
        "node_e = Node(\"Christian\")\n",
        "node_f = Node(\"Rov\")\n",
        "node_g = Node(\"Francis\")\n",
        "node_h = Node(\"Jannah\")"
      ],
      "metadata": {
        "id": "2c0W_tZ2ammm"
      },
      "execution_count": 10,
      "outputs": []
    },
    {
      "cell_type": "code",
      "source": [
        "# Connect each node\n",
        "\n",
        "doubly_linked_list.head.prev = None\n",
        "doubly_linked_list.head.next = node_b\n",
        "\n",
        "node_b.prev = doubly_linked_list.head\n",
        "node_b.next = node_c\n",
        "\n",
        "node_c.prev = node_b\n",
        "node_c.next = node_d\n",
        "\n",
        "node_d.prev = node_c\n",
        "node_d.next = node_e\n",
        "\n",
        "node_e.prev = node_d\n",
        "node_e.next = node_f\n",
        "\n",
        "node_f.prev = node_e\n",
        "node_f.next = node_g\n",
        "\n",
        "node_g.prev = node_f\n",
        "node_g.next = node_h\n",
        "\n",
        "node_h.prev = node_g\n",
        "node_h.next = None"
      ],
      "metadata": {
        "id": "niK8GFEvapuz"
      },
      "execution_count": 11,
      "outputs": []
    },
    {
      "cell_type": "code",
      "source": [
        "# Print the value of each node to check\n",
        "\n",
        "print(\"Value of head:\", doubly_linked_list.head.data)\n",
        "print(\"Next value to head:\", doubly_linked_list.head.next.data)\n",
        "print(\"--------------------------------------\")\n",
        "\n",
        "print(\"Value of node_b:\", node_b.data)\n",
        "print(\"Previous value to node_b:\", node_b.prev.data)\n",
        "print(\"Next value to node_b:\", node_b.next.data)\n",
        "print(\"--------------------------------------\")\n",
        "\n",
        "print(\"Value of node_c:\", node_c.data)\n",
        "print(\"Previous value to node_c:\", node_c.prev.data)\n",
        "print(\"Next value to node_c:\", node_c.next.data)\n",
        "print(\"--------------------------------------\")\n",
        "\n",
        "print(\"Value of node_d:\", node_d.data)\n",
        "print(\"Previous value to node_d:\", node_d.prev.data)\n",
        "print(\"Next value to node_d:\", node_d.next.data)\n",
        "print(\"--------------------------------------\")\n",
        "\n",
        "print(\"Value of node_e:\", node_e.data)\n",
        "print(\"Previous value to nodee:\", node_e.prev.data)\n",
        "print(\"Next value to node_e:\", node_e.next.data)\n",
        "print(\"--------------------------------------\")\n",
        "\n",
        "print(\"Value of node_f:\", node_f.data)\n",
        "print(\"Previous value to node_f:\", node_f.prev.data)\n",
        "print(\"Next value to node_f:\", node_f.next.data)\n",
        "print(\"--------------------------------------\")\n",
        "\n",
        "print(\"Value of node_g:\", node_g.data)\n",
        "print(\"Previous value to node_g:\", node_g.prev.data)\n",
        "print(\"Next value to node_g:\", node_g.next.data)\n",
        "print(\"--------------------------------------\")\n",
        "\n",
        "print(\"Value of node_h:\", node_h.data)\n",
        "print(\"Previous value to node_h:\", node_h.prev.data)\n",
        "print(\"\")"
      ],
      "metadata": {
        "colab": {
          "base_uri": "https://localhost:8080/"
        },
        "id": "a1VeYBdHauV-",
        "outputId": "2de58151-18d8-47f3-dbba-d8807a079d11"
      },
      "execution_count": 12,
      "outputs": [
        {
          "output_type": "stream",
          "name": "stdout",
          "text": [
            "Value of head: Soni\n",
            "Next value to head: Nana\n",
            "--------------------------------------\n",
            "Value of node_b: Nana\n",
            "Previous value to node_b: Soni\n",
            "Next value to node_b: Red\n",
            "--------------------------------------\n",
            "Value of node_c: Red\n",
            "Previous value to node_c: Nana\n",
            "Next value to node_c: RB\n",
            "--------------------------------------\n",
            "Value of node_d: RB\n",
            "Previous value to node_d: Red\n",
            "Next value to node_d: Christian\n",
            "--------------------------------------\n",
            "Value of node_e: Christian\n",
            "Previous value to nodee: RB\n",
            "Next value to node_e: Rov\n",
            "--------------------------------------\n",
            "Value of node_f: Rov\n",
            "Previous value to node_f: Christian\n",
            "Next value to node_f: Francis\n",
            "--------------------------------------\n",
            "Value of node_g: Francis\n",
            "Previous value to node_g: Rov\n",
            "Next value to node_g: Jannah\n",
            "--------------------------------------\n",
            "Value of node_h: Jannah\n",
            "Previous value to node_h: Francis\n",
            "\n"
          ]
        }
      ]
    },
    {
      "cell_type": "code",
      "source": [
        "# Traverse all the nodes and display all the elements in the Doubly Linked List\n",
        "doubly_linked_list.traverse(doubly_linked_list.head)"
      ],
      "metadata": {
        "colab": {
          "base_uri": "https://localhost:8080/"
        },
        "id": "jSp_gDdaa0yH",
        "outputId": "d94c4d87-ec26-4413-a014-b79f2473f2a2"
      },
      "execution_count": 13,
      "outputs": [
        {
          "output_type": "stream",
          "name": "stdout",
          "text": [
            "Soni -> Nana -> Red -> RB -> Christian -> Rov -> Francis -> Jannah -> "
          ]
        }
      ]
    },
    {
      "cell_type": "markdown",
      "metadata": {
        "id": "rtApbsCjzZOm"
      },
      "source": [
        "#### 3. Create a Circular Linked list\n",
        "\n",
        "- Each node should contain your name and your seatmates in your row\n",
        "- Create at least 5 nodes\n",
        "- Traverse all nodes"
      ]
    },
    {
      "cell_type": "code",
      "execution_count": 14,
      "metadata": {
        "id": "Gp1Oiq0jzZOn"
      },
      "outputs": [],
      "source": [
        "# Create a Node class\n",
        "class Node:\n",
        "  def __init__(self, data):\n",
        "    self.data = data\n",
        "    self.next = None"
      ]
    },
    {
      "cell_type": "code",
      "source": [
        "# Create a CircularLinkedList class\n",
        "class CircularLinkedList:\n",
        "  def __init__(self):\n",
        "    self.head = None\n",
        "\n",
        "  def traverse(self, node):\n",
        "\n",
        "    head = node\n",
        "\n",
        "    while node:\n",
        "      print(node.data, end = \" -> \")\n",
        "      node = node.next\n",
        "\n",
        "      # End the while loop using break to prevent infinite loop\n",
        "      if node == head:\n",
        "        break"
      ],
      "metadata": {
        "id": "pBSDlDXLbEvr"
      },
      "execution_count": 15,
      "outputs": []
    },
    {
      "cell_type": "code",
      "source": [
        "# Create a new instance of the CircularLinkedList class\n",
        "circular_linked_list = CircularLinkedList()"
      ],
      "metadata": {
        "id": "sxdOs077bH88"
      },
      "execution_count": 16,
      "outputs": []
    },
    {
      "cell_type": "code",
      "source": [
        "# Create nodes and assign data to each node\n",
        "circular_linked_list.head = Node(\"Soni\")\n",
        "node_b = Node(\"Nana\")\n",
        "node_c = Node(\"Red\")\n",
        "node_d = Node(\"RB\")\n",
        "node_e = Node(\"Christian\")\n",
        "node_f = Node(\"Rov\")\n",
        "node_g = Node(\"Francis\")\n",
        "node_h = Node(\"Jannah\")"
      ],
      "metadata": {
        "id": "c6wXs8erbKgd"
      },
      "execution_count": 18,
      "outputs": []
    },
    {
      "cell_type": "code",
      "source": [
        "# Connect each node\n",
        "circular_linked_list.head.next = node_b\n",
        "node_b.next = node_c\n",
        "node_c.next = node_d\n",
        "node_d.next = node_e\n",
        "node_e.next = node_f\n",
        "node_f.next = node_g\n",
        "node_g.next = node_h\n",
        "node_h.next = circular_linked_list.head"
      ],
      "metadata": {
        "id": "_V4NIICQbQa7"
      },
      "execution_count": 19,
      "outputs": []
    },
    {
      "cell_type": "code",
      "source": [
        "# Print the value of each node to check\n",
        "\n",
        "print(\"Value of head:\", circular_linked_list.head.data)\n",
        "print(\"Next value to head:\", circular_linked_list.head.next.data)\n",
        "print(\"---------------------------------\")\n",
        "\n",
        "print(\"Value of node_b:\", node_b.data)\n",
        "print(\"Next value to node_b:\", node_b.next.data)\n",
        "print(\"---------------------------------\")\n",
        "\n",
        "print(\"Value of node_c:\", node_c.data)\n",
        "print(\"Next value to node_c:\", node_c.next.data)\n",
        "print(\"---------------------------------\")\n",
        "\n",
        "print(\"Value of node_d:\", node_d.data)\n",
        "print(\"Next value to node_d:\", node_d.next.data)\n",
        "print(\"---------------------------------\")\n",
        "\n",
        "print(\"Value of node_e:\", node_e.data)\n",
        "print(\"Next value to node_e:\", node_e.next.data)\n",
        "print(\"---------------------------------\")\n",
        "\n",
        "print(\"Value of node_f:\", node_f.data)\n",
        "print(\"Next value to node_f:\", node_f.next.data)\n",
        "print(\"---------------------------------\")\n",
        "\n",
        "print(\"Value of node_g:\", node_g.data)\n",
        "print(\"Next value to node_g:\", node_g.next.data)\n",
        "print(\"---------------------------------\")\n",
        "\n",
        "print(\"Value of node_h:\", node_h.data)\n",
        "print(\"Next value to node_h:\", node_h.next.data)"
      ],
      "metadata": {
        "colab": {
          "base_uri": "https://localhost:8080/"
        },
        "id": "tGlPriHIbd8F",
        "outputId": "e7f131a8-0c44-4401-bd65-e877684e1eca"
      },
      "execution_count": 22,
      "outputs": [
        {
          "output_type": "stream",
          "name": "stdout",
          "text": [
            "Value of head: Soni\n",
            "Next value to head: Nana\n",
            "---------------------------------\n",
            "Value of node_b: Nana\n",
            "Next value to node_b: Red\n",
            "---------------------------------\n",
            "Value of node_c: Red\n",
            "Next value to node_c: RB\n",
            "---------------------------------\n",
            "Value of node_d: RB\n",
            "Next value to node_d: Christian\n",
            "---------------------------------\n",
            "Value of node_e: Christian\n",
            "Next value to node_e: Rov\n",
            "---------------------------------\n",
            "Value of node_f: Rov\n",
            "Next value to node_f: Francis\n",
            "---------------------------------\n",
            "Value of node_g: Francis\n",
            "Next value to node_g: Jannah\n",
            "---------------------------------\n",
            "Value of node_h: Jannah\n",
            "Next value to node_h: Soni\n"
          ]
        }
      ]
    },
    {
      "cell_type": "code",
      "source": [
        "# Traverse all the nodes and display all the elements in the Circular Linked List\n",
        "circular_linked_list.traverse(circular_linked_list.head)"
      ],
      "metadata": {
        "colab": {
          "base_uri": "https://localhost:8080/"
        },
        "id": "DNtDMGlibigF",
        "outputId": "f4af0f61-1aca-4bd3-8124-43243473bf2a"
      },
      "execution_count": 23,
      "outputs": [
        {
          "output_type": "stream",
          "name": "stdout",
          "text": [
            "Soni -> Nana -> Red -> RB -> Christian -> Rov -> Francis -> Jannah -> "
          ]
        }
      ]
    }
  ],
  "metadata": {
    "kernelspec": {
      "display_name": "Python 3",
      "language": "python",
      "name": "python3"
    },
    "language_info": {
      "name": "python",
      "version": "3.11.4"
    },
    "orig_nbformat": 4,
    "colab": {
      "provenance": []
    }
  },
  "nbformat": 4,
  "nbformat_minor": 0
}